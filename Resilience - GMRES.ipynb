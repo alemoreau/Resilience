{
 "cells": [
  {
   "cell_type": "markdown",
   "metadata": {},
   "source": [
    "# Criterion for convergence in backward error after fault"
   ]
  },
  {
   "cell_type": "code",
   "execution_count": 1,
   "metadata": {
    "collapsed": false
   },
   "outputs": [],
   "source": [
    "%matplotlib inline"
   ]
  },
  {
   "cell_type": "code",
   "execution_count": 2,
   "metadata": {
    "collapsed": false
   },
   "outputs": [],
   "source": [
    "import numpy as np\n",
    "from scipy.sparse.linalg import LinearOperator\n",
    "from scipy.linalg import solve_triangular\n",
    "from sys import stdout\n",
    "import math\n"
   ]
  },
  {
   "cell_type": "markdown",
   "metadata": {},
   "source": [
    "## Import modules"
   ]
  },
  {
   "cell_type": "code",
   "execution_count": 3,
   "metadata": {
    "collapsed": false
   },
   "outputs": [],
   "source": [
    "from Experiment import *\n",
    "from Parameters import *\n",
    "from Fault import *\n",
    "from Algorithm import *\n",
    "from Utils import *"
   ]
  },
  {
   "cell_type": "markdown",
   "metadata": {},
   "source": [
    "## Algorithm initialization"
   ]
  },
  {
   "cell_type": "code",
   "execution_count": 4,
   "metadata": {
    "collapsed": false
   },
   "outputs": [],
   "source": [
    "from gmres import *\n",
    "import gmres_display"
   ]
  },
  {
   "cell_type": "markdown",
   "metadata": {},
   "source": [
    "### algorithm parameters"
   ]
  },
  {
   "cell_type": "code",
   "execution_count": 5,
   "metadata": {
    "collapsed": false
   },
   "outputs": [],
   "source": [
    "# parameters that won't change during the whole experiment\n",
    "epsilon = 1.e-10\n",
    "\n",
    "algorithm_parameters = Parameters()\n",
    "algorithm_parameters[\"restart\"] = None\n",
    "algorithm_parameters[\"tol\"] = epsilon\n",
    "algorithm_parameters[\"save_data\"] = {\"iteration_count\",\n",
    "                                     \"residual\",\n",
    "                                     \"residuals\",\n",
    "                                     \"true_residual\",\n",
    "                                     \"true_residuals\",\n",
    "                                     #\"orthogonality\",\n",
    "                                     #\"arnoldi\",\n",
    "                                     \"faults\",\n",
    "                                     \"H\",\n",
    "                                     \"V\",\n",
    "                                     \"givens\",\n",
    "                                     \"y\",\n",
    "                                     \"checksum\",\n",
    "                                     #\"threshold\",\n",
    "                                     #\"criteria\",\n",
    "                                     #\"delta\",\n",
    "                                     #\"true_delta\"\n",
    "                                    }\n",
    "\n",
    "def faulty_product(A, Faulty = None):\n",
    "    if Faulty:\n",
    "        return lambda v: Faulty.product(A, v)\n",
    "    else:\n",
    "        return lambda v: A.dot(v)"
   ]
  },
  {
   "cell_type": "markdown",
   "metadata": {},
   "source": [
    "### implementation"
   ]
  },
  {
   "cell_type": "code",
   "execution_count": 6,
   "metadata": {
    "collapsed": false
   },
   "outputs": [],
   "source": [
    "def implementation(self, input, algorithm_parameters, experiment_parameters):\n",
    "    A = input[\"A\"]\n",
    "    b = input[\"b\"]\n",
    "    x0= input[\"x0\"]\n",
    "    \n",
    "    parameters = algorithm_parameters.copy()\n",
    "    parameters.update(experiment_parameters)\n",
    "    \n",
    "    n = A.shape[0]\n",
    "    normb = np.linalg.norm(b)\n",
    "    maxiter = parameters.get(\"maxiter\", n)\n",
    "    tol = parameters.get(\"tol\", 1.e-10)\n",
    "    restart = parameters.get(\"restart\", None)\n",
    "    m = restart if restart else maxiter\n",
    "    save_data = parameters.get(\"save_data\", {})\n",
    "    A1T = A.sum(axis=0)\n",
    "    \n",
    "    if \"residuals\" in save_data:\n",
    "        self.data[\"residuals\"] = [1.]\n",
    "    if \"true_residuals\" in save_data:    \n",
    "        self.data[\"true_residuals\"] = [1.]\n",
    "    if \"measured_checksum\" in save_data:\n",
    "        self.data[\"measured_checksum\"] = [0.]\n",
    "    if \"true_checksum\" in save_data:\n",
    "        self.data[\"true_checksum\"] = [0.]\n",
    "    if \"checksum\" in save_data:\n",
    "        self.data[\"checksum\"] = [0.]\n",
    "    if \"true_delta\" in save_data:\n",
    "        self.data[\"true_delta\"] = [0.]\n",
    "    if \"delta\" in save_data:\n",
    "        self.data[\"delta\"] = [0.]\n",
    "    if \"y\" in save_data:\n",
    "        self.data[\"y\"] = []\n",
    "    \n",
    "    if parameters.get(\"vulnerable\", True):\n",
    "        faulty = Fault(parameters.get(\"fault_parameters\", Parameters()))\n",
    "    else:\n",
    "        faulty = None\n",
    "    A_ = LinearOperator((n, n), \n",
    "                        matvec=faulty_product(A, faulty),\n",
    "                        dtype=A.dtype)\n",
    "\n",
    "    def callback(iter_num, resid, work, work2, ijob):\n",
    "        R = work[0*n:1*n]\n",
    "        S = work[1*n:2*n]\n",
    "        W = work[2*n:3*n]\n",
    "        Y = work[3*n:4*n]\n",
    "        AV= work[4*n:5*n]\n",
    "        V = work[5*n:(5+iter_num)*n]\n",
    "        v = work[(5+iter_num) * n:(6 + iter_num)*n]\n",
    "        H = work2[:iter_num*(m+1)]\n",
    "        c = work2[m*(m+1):m*(m+2)]\n",
    "        s = work2[m*(m+2):m*(m+3)]\n",
    "        \n",
    "        if (ijob == 3):\n",
    "            if (\"measured_checksum\" in save_data or \n",
    "                \"diff_checksum\" in save_data):\n",
    "                measured_checksum = np.sum(AV)\n",
    "            if (\"true_checksum\" in save_data or \n",
    "                \"diff_checksum\" in save_data):\n",
    "                true_checksum = np.dot(A1T, v)\n",
    "            if \"measured_checksum\" in save_data:\n",
    "                self.data[\"measured_checksum\"] += [measured_checksum]\n",
    "            if \"true_checksum\" in save_data:\n",
    "                self.data[\"true_checksum\"] += [true_checksum]\n",
    "            if \"diff_checksum\" in save_data:\n",
    "                self.data[\"diff_checksum\"] += [abs(measured_checksum - \n",
    "                                                   true_checksum)]\n",
    "\n",
    "\n",
    "\n",
    "        if (\"H\" in save_data or \n",
    "            \"V\" in save_data or\n",
    "            \"y\" in save_data or \n",
    "            \"delta\" in save_data or\n",
    "            \"true_delta\" in save_data or\n",
    "            \"true_residual\" in save_data or\n",
    "            \"true_residuals\" in save_data):\n",
    "            H = H.reshape((iter_num, m+1))[:,:iter_num]\n",
    "            V = V.reshape((iter_num, n))\n",
    "            S = S[:iter_num]\n",
    "            if (\"y\" in save_data or \n",
    "                \"true_residuals\" in save_data or \n",
    "                \"true_delta\" in save_data or \n",
    "                \"delta\" in save_data):\n",
    "                y = solve_triangular(H.T, S)\n",
    "                true_resid = np.linalg.norm(A.dot(x0+np.dot(V.T, y)) - b) / normb\n",
    "        \n",
    "        if \"y\" in save_data:\n",
    "            self.data[\"y\"] += [y]\n",
    "        if \"iteration_count\" in save_data:\n",
    "            self.data[\"iteration_count\"] = iter_num \n",
    "        if \"residual\" in save_data:\n",
    "            self.data[\"residual\"] = resid\n",
    "        if \"residuals\" in save_data:\n",
    "            self.data[\"residuals\"] += [resid]\n",
    "        if \"true_residual\" in save_data:\n",
    "            self.data[\"true_residual\"] = true_resid\n",
    "        if \"true_residuals\" in save_data:\n",
    "            self.data[\"true_residuals\"] += [true_resid]\n",
    "        if \"delta\" in save_data:\n",
    "            self.data[\"delta\"] += [abs(resid - true_resid)] #TODO\n",
    "        if \"true_delta\" in save_data:\n",
    "            self.data[\"true_delta\"] += [abs(resid - true_resid)] \n",
    "\n",
    "              \n",
    "        if \"H\" in save_data:\n",
    "            self.data[\"H\"] = H.T\n",
    "        if \"V\" in save_data:\n",
    "            self.data[\"V\"] = V.T\n",
    "        if \"givens\" in save_data:\n",
    "            self.data[\"givens_c\"] = c[:iter_num]\n",
    "            self.data[\"givens_s\"] = s[:iter_num]\n",
    "\n",
    "        if faulty and \"faults\" in save_data:\n",
    "            self.data[\"faults\"] = faulty.faults\n",
    "            \n",
    "    x = gmres(A_, \n",
    "              b, \n",
    "              x0, \n",
    "              tol = tol,\n",
    "              maxiter = maxiter,\n",
    "              restart = restart,\n",
    "              callback = callback if parameters.get(\"save_data\", None) else None\n",
    "             )\n",
    "    return x"
   ]
  },
  {
   "cell_type": "code",
   "execution_count": 7,
   "metadata": {
    "collapsed": true
   },
   "outputs": [],
   "source": [
    "gmres_algorithm = Algorithm(algorithm_parameters, implementation)"
   ]
  },
  {
   "cell_type": "markdown",
   "metadata": {},
   "source": []
  },
  {
   "cell_type": "markdown",
   "metadata": {},
   "source": [
    "## Experiment setup"
   ]
  },
  {
   "cell_type": "markdown",
   "metadata": {
    "collapsed": true
   },
   "source": [
    "## Load input"
   ]
  },
  {
   "cell_type": "code",
   "execution_count": 8,
   "metadata": {
    "collapsed": false
   },
   "outputs": [
    {
     "name": "stdout",
     "output_type": "stream",
     "text": [
      "4562\n"
     ]
    }
   ],
   "source": [
    "input = load_mat(\"mat_files/cavity16.mat\", sparse = True)\n",
    "A = input[\"A\"]\n",
    "b = input[\"b\"]\n",
    "x0 = input[\"x0\"]\n",
    "inputs = [input]\n",
    "n = A.shape[0]\n",
    "problem = input[\"problem\"]\n",
    "print n"
   ]
  },
  {
   "cell_type": "code",
   "execution_count": 9,
   "metadata": {
    "collapsed": false
   },
   "outputs": [
    {
     "data": {
      "application/pdf": "[encoded data removed]",
      "image/png": "[encoded data removed]",
      "text/plain": [
       "<matplotlib.figure.Figure at 0x7f15a8ec6fd0>"
      ]
     },
     "metadata": {},
     "output_type": "display_data"
    }
   ],
   "source": [
    "try:\n",
    "    plt.matshow(A)\n",
    "except:\n",
    "    plt.matshow(A.toarray())"
   ]
  },
  {
   "cell_type": "markdown",
   "metadata": {
    "collapsed": true
   },
   "source": [
    "## Experiment initialization"
   ]
  },
  {
   "cell_type": "markdown",
   "metadata": {},
   "source": []
  },
  {
   "cell_type": "markdown",
   "metadata": {
    "collapsed": false
   },
   "source": [
    "### Experiment parameters"
   ]
  },
  {
   "cell_type": "code",
   "execution_count": null,
   "metadata": {
    "collapsed": true
   },
   "outputs": [],
   "source": []
  },
  {
   "cell_type": "code",
   "execution_count": 10,
   "metadata": {
    "collapsed": false
   },
   "outputs": [],
   "source": [
    "# Parameters that may change during the experiment\n",
    "# Experiment parameters override Algorithm parameters\n",
    "experiment_parameters = Parameters()\n",
    "\n",
    "experiment_parameters[\"vulnerable\"] = False\n",
    "experiment_parameters[\"tol\"] = epsilon\n",
    "experiment_parameters[\"full\"] = False"
   ]
  },
  {
   "cell_type": "code",
   "execution_count": 11,
   "metadata": {
    "collapsed": true
   },
   "outputs": [],
   "source": [
    "F = Experiment(experiment_parameters, gmres_algorithm)\n",
    "F.set_inputs(inputs)"
   ]
  },
  {
   "cell_type": "markdown",
   "metadata": {},
   "source": [
    "## Run experiment"
   ]
  },
  {
   "cell_type": "code",
   "execution_count": 12,
   "metadata": {
    "collapsed": false
   },
   "outputs": [
    {
     "name": "stdout",
     "output_type": "stream",
     "text": [
      "\r",
      "Complete ! \n"
     ]
    }
   ],
   "source": [
    "F.run(show_progress=True, n=1)"
   ]
  },
  {
   "cell_type": "code",
   "execution_count": 13,
   "metadata": {
    "collapsed": false
   },
   "outputs": [
    {
     "name": "stdout",
     "output_type": "stream",
     "text": [
      "(813, 9.112808383197566e-11)\n",
      "813\n"
     ]
    }
   ],
   "source": [
    "minimum = min(filter(lambda d: d[1] < epsilon, enumerate(F.get_data(\"residuals\")[0])),\n",
    "                    key=lambda d: d[0])\n",
    "print minimum\n",
    "min_iteration = minimum[0]\n",
    "print min_iteration"
   ]
  },
  {
   "cell_type": "code",
   "execution_count": 14,
   "metadata": {
    "collapsed": false
   },
   "outputs": [
    {
     "data": {
      "application/pdf": "[encoded data removed]",
      "image/png": "[encoded data removed]",
      "text/plain": [
       "<matplotlib.figure.Figure at 0x7f15a8ec6990>"
      ]
     },
     "metadata": {},
     "output_type": "display_data"
    }
   ],
   "source": [
    "gmres_display.convergence_history(F.get_data()[0], xlim = (0, int(min_iteration * 1.1)), ylim = (epsilon / 10, 10), true_residual = False, checksum = False, threshold = False, c = 1, delta = False)"
   ]
  },
  {
   "cell_type": "code",
   "execution_count": null,
   "metadata": {
    "collapsed": false
   },
   "outputs": [],
   "source": []
  },
  {
   "cell_type": "markdown",
   "metadata": {},
   "source": [
    "## Effect of faults in GMRES"
   ]
  },
  {
   "cell_type": "markdown",
   "metadata": {
    "collapsed": false
   },
   "source": [
    "### Experiment parameters"
   ]
  },
  {
   "cell_type": "code",
   "execution_count": 15,
   "metadata": {
    "collapsed": false
   },
   "outputs": [],
   "source": [
    "# Parameters that may change during the experiment\n",
    "experiment_parameters = Parameters()\n",
    "\n",
    "experiment_parameters[\"vulnerable\"] = True\n",
    "experiment_parameters[\"iterMax\"] = int(1.5 * min_iteration)\n",
    "experiment_parameters[\"m\"] = int(1.5* min_iteration)\n",
    "fault_parameters = {}\n",
    "fault_parameters[\"fault_callback\"] = lambda fault: (stdout.write(\" %s \" % str(fault)))\n",
    "fault_parameters[\"register\"] = 2\n",
    "fault_parameters[\"vulnerable\"] = True\n",
    "fault_parameters[\"vulnerable_bits\"] = [int(np.random.rand() * 64)]\n",
    "non_zero = A.nonzero()\n",
    "index = int(np.random.rand()*len(non_zero[0]))\n",
    "fault_parameters[\"fault_indices\"] = {\"i\": non_zero[0][index], \n",
    "                                     \"j\":0, \n",
    "                                     \"k\": non_zero[1][index]}\n",
    "fault_parameters[\"timer\"] = int(np.random.rand() * min_iteration) + 1\n",
    "experiment_parameters[\"fault_parameters\"] = fault_parameters\n"
   ]
  },
  {
   "cell_type": "code",
   "execution_count": 16,
   "metadata": {
    "collapsed": false
   },
   "outputs": [
    {
     "name": "stdout",
     "output_type": "stream",
     "text": [
      "Complete ! \n"
     ]
    }
   ],
   "source": [
    "E = Experiment(experiment_parameters, gmres_algorithm)\n",
    "E.set_inputs(inputs)\n",
    "E.run(show_progress=True, n=1)"
   ]
  },
  {
   "cell_type": "code",
   "execution_count": null,
   "metadata": {
    "collapsed": false
   },
   "outputs": [],
   "source": []
  },
  {
   "cell_type": "markdown",
   "metadata": {},
   "source": [
    "### Parameters influence"
   ]
  },
  {
   "cell_type": "code",
   "execution_count": 17,
   "metadata": {
    "collapsed": false
   },
   "outputs": [],
   "source": [
    "def experiment_parameters_generator(vulnerable = True,\n",
    "                                    tol = 0,\n",
    "                                    bits = [40], \n",
    "                                    iterations = [min_iteration / 2], \n",
    "                                    iterMax = int(min_iteration * 1.5),\n",
    "                                    m = int(min_iteration * 1.5),\n",
    "                                    registers = [1], \n",
    "                                    indices = [E.get_data(\"faults\")[0][0][\"loc\"]],\n",
    "                                    fault_callback = lambda fault: (stdout.write(\" %s \" % str(fault)))\n",
    "                                   ):\n",
    "    parameters = Parameters()\n",
    "    parameters[\"vulnerable\"] = vulnerable\n",
    "    parameters[\"tol\"] = epsilon #tol\n",
    "    parameters[\"iterMax\"] = iterMax\n",
    "    parameters[\"m\"] = m\n",
    "    fault_parameters = {}\n",
    "    fault_parameters[\"fault_callback\"] = fault_callback\n",
    "    fault_parameters[\"vulnerable\"] = vulnerable\n",
    "    while (True):\n",
    "\n",
    "        parameters[\"fault_parameters\"] = fault_parameters\n",
    "\n",
    "        for bit in bits:\n",
    "            for iteration in iterations:\n",
    "                for reg in registers:\n",
    "                    for indice in indices:\n",
    "                        fault_parameters[\"vulnerable_bits\"] = [bit]\n",
    "                        fault_parameters[\"timer\"] = iteration\n",
    "                        fault_parameters[\"register\"] = reg\n",
    "                        fault_parameters[\"fault_indices\"] = indice\n",
    "                        yield parameters"
   ]
  },
  {
   "cell_type": "code",
   "execution_count": 18,
   "metadata": {
    "collapsed": true
   },
   "outputs": [],
   "source": [
    "def has_converged(data, epsilon = epsilon):\n",
    "    return len(filter (lambda d: d[0] < epsilon and d[1] < epsilon, zip(data[\"true_residuals\"], data[\"residuals\"]))) > 0\n",
    "\n",
    "def when_has_converged(data, epsilon = epsilon):\n",
    "    iteration_residual = filter (lambda d: d[1][0] < epsilon and d[1][1] < epsilon, \n",
    "                                 enumerate(zip(data[\"true_residuals\"], data[\"residuals\"])))\n",
    "    if iteration_residual:\n",
    "        return min(iteration_residual, key=lambda d:d[0])[0]\n",
    "    else:\n",
    "        return None"
   ]
  },
  {
   "cell_type": "code",
   "execution_count": null,
   "metadata": {
    "collapsed": false
   },
   "outputs": [],
   "source": []
  },
  {
   "cell_type": "markdown",
   "metadata": {},
   "source": [
    "## Quantitative results"
   ]
  },
  {
   "cell_type": "code",
   "execution_count": 19,
   "metadata": {
    "collapsed": true
   },
   "outputs": [],
   "source": [
    "import random\n",
    "\n",
    "def experiment_parameters_generator_random(vulnerable = True,\n",
    "                                    tol = 0,\n",
    "                                    m = 100,\n",
    "                                    fault_callback = lambda fault: (stdout.write(\" %s \" % str(fault)))\n",
    "                                   ):\n",
    "\n",
    "    \n",
    "    parameters = Parameters()\n",
    "    parameters[\"vulnerable\"] = vulnerable\n",
    "    parameters[\"tol\"] = tol\n",
    "    fault_parameters = {}\n",
    "    fault_parameters[\"fault_callback\"] = fault_callback\n",
    "    fault_parameters[\"vulnerable\"] = vulnerable\n",
    "            \n",
    "    parameters[\"fault_parameters\"] = fault_parameters\n",
    "        \n",
    "    while (True):\n",
    "        fault_parameters[\"timer\"] = random.choice([i for i in xrange(m)])\n",
    "        yield parameters"
   ]
  },
  {
   "cell_type": "code",
   "execution_count": 20,
   "metadata": {
    "collapsed": false
   },
   "outputs": [],
   "source": [
    "import os\n",
    "import sys\n",
    "#import mysql.connector as mariadb\n",
    "import pymysql as mariadb\n",
    "mariadb_connection = mariadb.connect(user='resilience', \n",
    "                                     #password='resilience_password', \n",
    "                                     passwd='resilience_password',\n",
    "                                     #host='192.168.1.48',\n",
    "                                     database='gmres_resilience')\n",
    "cursor = mariadb_connection.cursor()\n",
    "\n",
    "def save_linearsystem(input):\n",
    "    try:\n",
    "        cursor.execute(\"\"\"SELECT name FROM LinearSystem WHERE name = %s \"\"\", (str(input[\"name\"]),))\n",
    "        rows = cursor.fetchone()\n",
    "        if (not rows):\n",
    "            cursor.execute(\"\"\"INSERT INTO LinearSystem (file, name) VALUES (%s,%s)\"\"\",(input[\"file\"], str(input[\"name\"])))\n",
    "            mariadb_connection.commit()\n",
    "            return\n",
    "    except:\n",
    "        print sys.exc_info()[0]\n",
    "    mariadb_connection.rollback()\n",
    "        \n",
    "def save_experiment(input, output, parameter, data):\n",
    "    try:\n",
    "        if data[\"faults\"]:\n",
    "            cursor.execute(\"\"\"INSERT INTO Experiment (fault_i, fault_k, fault_f, fault_bit, fault_reg, LinearSystem, H, V, x, residual, residuals, givens_c, givens_s, tol, m, l) VALUES (%s, %s, %s, %s, %s, %s, %s, %s, %s, %s, %s, %s, %s, %s, %s, %s)\"\"\", \n",
    "                       (int(data[\"faults\"][0][\"loc\"][\"i\"]),\n",
    "                        int(data[\"faults\"][0][\"loc\"][\"k\"]),\n",
    "                        int(data[\"faults\"][0][\"timer\"]),\n",
    "                        int(data[\"faults\"][0][\"bit\"]),\n",
    "                        int(data[\"faults\"][0][\"register\"]),\n",
    "                        str(input[\"name\"]),\n",
    "                        data[\"H\"].tostring(), \n",
    "                        data[\"V\"].tostring(),\n",
    "                        output.tostring(), \n",
    "                        float(data[\"residual\"]), \n",
    "                        np.asarray(data[\"residuals\"]).tostring(),\n",
    "                        np.asarray(data[\"givens_c\"]).tostring(),\n",
    "                        np.asarray(data[\"givens_s\"]).tostring(),\n",
    "                        float(parameter[\"tol\"]),\n",
    "                        int(parameter[\"m\"]),\n",
    "                        int(data[\"iteration_count\"])))\n",
    "        else:\n",
    "            cursor.execute(\"\"\"INSERT INTO Experiment (LinearSystem, H, V, x, residual, residuals, givens_c, givens_s, tol, m, l) VALUES (%s, %s, %s, %s, %s, %s, %s, %s, %s, %s, %s)\"\"\", \n",
    "                        (str(input[\"name\"]),\n",
    "                        data[\"H\"].tostring(), \n",
    "                        data[\"V\"].tostring(),\n",
    "                        output.tostring(), \n",
    "                        float(data[\"residual\"]), \n",
    "                        np.asarray(data[\"residuals\"]).tostring(),\n",
    "                        np.asarray(data[\"givens_c\"]).tostring(),\n",
    "                        np.asarray(data[\"givens_s\"]).tostring(),\n",
    "                        float(parameter[\"tol\"]),\n",
    "                        int(parameter[\"m\"]),\n",
    "                        int(data[\"iteration_count\"])))\n",
    "        mariadb_connection.commit()\n",
    "        return\n",
    "\n",
    "    except:\n",
    "        print sys.exc_info()[0]\n",
    "    mariadb_connection.rollback()\n",
    "    \n",
    "def save_database_callback(input, output, parameter, data):\n",
    "    save_linearsystem(input)\n",
    "    save_experiment(input, output, parameter, data)"
   ]
  },
  {
   "cell_type": "code",
   "execution_count": null,
   "metadata": {
    "collapsed": false
   },
   "outputs": [
    {
     "name": "stdout",
     "output_type": "stream",
     "text": [
      "None\n"
     ]
    }
   ],
   "source": [
    "cursor.execute(\"\"\"SELECT name FROM LinearSystem WHERE name = %s \"\"\", (str(input[\"name\"]),))\n",
    "rows = cursor.fetchone()\n",
    "print rows"
   ]
  },
  {
   "cell_type": "code",
   "execution_count": null,
   "metadata": {
    "collapsed": false,
    "scrolled": false
   },
   "outputs": [
    {
     "name": "stdout",
     "output_type": "stream",
     "text": [
      "rajat12.mat\n",
      "31 %  {'register_before': 0.0, 'loc': {'i': 605, 'k': 1, 'j': 0}, 'value_before': -0.014138161071402276, 'register': 3, 'timer': 381, 'register_after': 2.848094538889218e-306, 'bit': 8, 'value_after': -0.014138161071402276} "
     ]
    }
   ],
   "source": [
    "\n",
    "F_parameters = Parameters()\n",
    "F_parameters[\"restart\"] = None\n",
    "F_parameters[\"tol\"] = epsilon\n",
    "F_parameters[\"save_data\"] = {\"iteration_count\",\n",
    "                             \"residual\",\n",
    "                             \"residuals\",\n",
    "                             \"true_residual\",\n",
    "                             \"true_residuals\",\n",
    "                             \"faults\",\n",
    "                             \"H\",\n",
    "                             \"V\",\n",
    "                             \"givens\",\n",
    "                             \"y\",\n",
    "                             \"checksum\",\n",
    "                             \"delta\",\n",
    "                             \"true_delta\"\n",
    "                            }\n",
    "F_parameters[\"vulnerable\"] = False\n",
    "\n",
    "\n",
    "for mat_file in os.listdir(os.getcwd()+os.sep+\"mat_files\", ):\n",
    "    try:\n",
    "        if mat_file.endswith(\".mat\"): \n",
    "            print mat_file\n",
    "            _inputs = [load_mat(os.getcwd()+os.sep+\"mat_files\"+os.sep+mat_file, sparse = True)]\n",
    "            _F = Experiment(F_parameters, gmres_algorithm, callback=save_database_callback, save_data=True)\n",
    "            _F.set_inputs(_inputs)\n",
    "            _F.run(n = 1)\n",
    "            if has_converged(_F.get_data()[0], epsilon = epsilon):\n",
    "                _min_iteration = when_has_converged(_F.get_data()[0], epsilon = epsilon)\n",
    "                if _min_iteration and _min_iteration > 5:\n",
    "                    _G = Experiment(experiment_parameters_generator_random(m=_min_iteration, tol = epsilon / 100), \n",
    "                                    gmres_algorithm, \n",
    "                                    callback=save_database_callback,\n",
    "                                    save_data = False)\n",
    "                    _G.set_inputs(_inputs)\n",
    "                    _G.run(show_progress=True, n=100)\n",
    "                    #_data = filter(lambda d: len(d[\"faults\"]) > 0 and not d[\"breakdown\"], _G.get_data())\n",
    "    except RuntimeError:\n",
    "        print \"Problème avec \", mat_file"
   ]
  },
  {
   "cell_type": "code",
   "execution_count": null,
   "metadata": {
    "collapsed": false
   },
   "outputs": [],
   "source": []
  },
  {
   "cell_type": "code",
   "execution_count": null,
   "metadata": {
    "collapsed": false
   },
   "outputs": [],
   "source": [
    "mariadb_connection.close()"
   ]
  },
  {
   "cell_type": "code",
   "execution_count": null,
   "metadata": {
    "collapsed": true
   },
   "outputs": [],
   "source": []
  },
  {
   "cell_type": "markdown",
   "metadata": {},
   "source": [
    "## Fault detection"
   ]
  },
  {
   "cell_type": "markdown",
   "metadata": {},
   "source": [
    "### Qualitative results"
   ]
  },
  {
   "cell_type": "code",
   "execution_count": null,
   "metadata": {
    "collapsed": false
   },
   "outputs": [],
   "source": [
    "input = load_mat(\"./gre_216a.mat\", sparse = False)\n",
    "A = input[\"A\"]\n",
    "inputs = [input]\n",
    "n = A.shape[0]\n",
    "\n",
    "min_iteration = when_has_converged(F.get_data()[0], epsilon=epsilon)\n"
   ]
  },
  {
   "cell_type": "code",
   "execution_count": null,
   "metadata": {
    "collapsed": false
   },
   "outputs": [],
   "source": [
    "\n",
    "experiment_parameters = experiment_parameters_generator(iterations = [60], tol = epsilon)\n",
    "\n",
    "E_ = Experiment(experiment_parameters, gmres_algorithm)\n",
    "E_.set_inputs(inputs)\n",
    "E_.run(show_progress=True, n=3)"
   ]
  },
  {
   "cell_type": "code",
   "execution_count": null,
   "metadata": {
    "collapsed": false
   },
   "outputs": [],
   "source": [
    "for data, result in zip(E_.get_data(), E_.get_results()):\n",
    "    for i in xrange(len(data[\"threshold\"])):\n",
    "        data[\"delta\"][i] = (c * epsilon * np.linalg.norm(result[0][\"b\"])) / abs(data[\"y\"][-1][i])\n",
    "    data[\"delta\"][-1] = (c * epsilon * np.linalg.norm(result[0][\"b\"])) / abs(data[\"y\"][-1][-2])   \n"
   ]
  },
  {
   "cell_type": "code",
   "execution_count": null,
   "metadata": {
    "collapsed": false
   },
   "outputs": [],
   "source": [
    "for data in E_.get_data():\n",
    "    gmres_display.convergence_history(data, data_no_fault = F.get_data()[0], true_residual=False, computed_residual=False, fault = True, delta = True, delta_label=\"True threshold\", threshold=True, ylim = (epsilon / 10, 1), xytext = (1, epsilon / 10), bbox_to_anchor=(0.52, 0.15))\n",
    "    #plt.plot([data[\"faults\"][0][\"timer\"]], [abs(data[\"faults\"][0][\"value_before\"]- data[\"faults\"][0][\"value_after\"])], 'bs', label='true error')\n",
    "    #plt.legend(numpoints=1)\n",
    "    plt.show()"
   ]
  },
  {
   "cell_type": "code",
   "execution_count": null,
   "metadata": {
    "collapsed": false
   },
   "outputs": [],
   "source": [
    "for data in E_.get_data():\n",
    "    gmres_display.convergence_history(data, data_no_fault = F.get_data()[0], c = 0.5, fault = True, delta = True, checksum=True, threshold = True, xlim = (0, int(1.5 * min_iteration)), ylim = (epsilon / 10, 1), xytext = (1, epsilon / 10), bbox_to_anchor=(0.6, 0.8))\n",
    "    plt.show()"
   ]
  },
  {
   "cell_type": "code",
   "execution_count": null,
   "metadata": {
    "collapsed": false
   },
   "outputs": [],
   "source": [
    "def criterion(data, c = 0.25, epsilon = epsilon):\n",
    "    m = when_has_converged(data, epsilon = (1-c)*epsilon)\n",
    "    if len(data[\"checksum\"]) >= m and len(data[\"threshold\"]) >= m:\n",
    "        return reduce(lambda d, e: d and (e[0] < c * e[1]), zip(data[\"checksum\"][:m], data[\"threshold\"][:m])) and data[\"checksum\"][0] < c * data[\"threshold\"][0]\n",
    "    else:\n",
    "        return True"
   ]
  },
  {
   "cell_type": "code",
   "execution_count": null,
   "metadata": {
    "collapsed": true
   },
   "outputs": [],
   "source": []
  },
  {
   "cell_type": "code",
   "execution_count": null,
   "metadata": {
    "collapsed": false
   },
   "outputs": [],
   "source": [
    "print criterion(E_.get_data()[0])\n",
    "print criterion(E_.get_data()[1])\n",
    "print criterion(E_.get_data()[2])"
   ]
  },
  {
   "cell_type": "code",
   "execution_count": null,
   "metadata": {
    "collapsed": true
   },
   "outputs": [],
   "source": []
  },
  {
   "cell_type": "code",
   "execution_count": null,
   "metadata": {
    "collapsed": false
   },
   "outputs": [],
   "source": [
    "\n",
    "step_ite = 1\n",
    "step_bit = 1\n",
    "\n",
    "experiment_parameters = experiment_parameters_generator(bits = np.arange(63, 0, -step_bit),\n",
    "                                                       iterations = np.arange(0, min_iteration, step_ite),\n",
    "                                                       tol = epsilon / 2)\n",
    "\n",
    "I = Experiment(experiment_parameters, gmres_algorithm)\n",
    "I.set_inputs(inputs)\n",
    "I.run(show_progress=True, n=int(math.ceil(float(min_iteration)/step_ite)) * int(math.ceil(64./step_bit)))"
   ]
  },
  {
   "cell_type": "code",
   "execution_count": null,
   "metadata": {
    "collapsed": false
   },
   "outputs": [],
   "source": [
    "for data, result in zip(I.get_data(), I.get_results()):\n",
    "    for i in xrange(len(data[\"checksum\"])):\n",
    "        data[\"checksum\"][i] = epsilon / 10\n",
    "    data[\"checksum\"][data[\"faults\"][0][\"timer\"]] = abs(data[\"faults\"][0][\"value_before\"]- data[\"faults\"][0][\"value_after\"])"
   ]
  },
  {
   "cell_type": "code",
   "execution_count": null,
   "metadata": {
    "collapsed": false
   },
   "outputs": [],
   "source": [
    "#for data, result in zip(I.get_data(), I.get_results()):\n",
    "#    for i in xrange(len(data[\"threshold\"])):\n",
    "#        data[\"threshold\"][i] = (np.linalg.norm(result[0][\"b\"]) * epsilon) / abs(data[\"y\"][i][i][0])\n",
    "for data, result in zip(I.get_data(), I.get_results()):\n",
    "    for i in xrange(len(data[\"threshold\"])):\n",
    "        data[\"threshold\"][i]= (np.linalg.norm(result[0][\"b\"]) * epsilon) / abs(data[\"y\"][-1][data[\"faults\"][0][\"timer\"]][0])"
   ]
  },
  {
   "cell_type": "code",
   "execution_count": null,
   "metadata": {
    "collapsed": false
   },
   "outputs": [],
   "source": [
    "data = filter(lambda d: len(d[\"faults\"]) > 0, I.get_data())\n"
   ]
  },
  {
   "cell_type": "code",
   "execution_count": null,
   "metadata": {
    "collapsed": false
   },
   "outputs": [],
   "source": [
    "\n",
    "for d in filter(lambda d: fault_detection(d, epsilon = epsilon, c=0.5), data)[0:1]:\n",
    "    gmres_display.convergence_history(d, data_no_fault = F.get_data()[0], c = 0.5, fault = True, delta = True, checksum=True, checksum_label=\"Error\", threshold = True, xlim = (0, int(1.5 * min_iteration)), ylim = (epsilon/10, 1), xytext = (1, epsilon / 10), bbox_to_anchor=(0.50, 0.72))\n",
    "    plt.show()"
   ]
  },
  {
   "cell_type": "code",
   "execution_count": null,
   "metadata": {
    "collapsed": true
   },
   "outputs": [],
   "source": []
  },
  {
   "cell_type": "code",
   "execution_count": null,
   "metadata": {
    "collapsed": false
   },
   "outputs": [],
   "source": [
    "\n",
    "X = [1.2**(-50+i) for i in xrange(51)]\n",
    "test_orange = []\n",
    "test_red = []\n",
    "test_green = []\n",
    "test_gray1 = []\n",
    "test_gray2 = []\n",
    "\n",
    "\n",
    "for x in X:\n",
    "    #test_red += [(100. * len(filter_data(data, {'converged':False, 'criterion':True}, c=x)))/len(data)]\n",
    "    #test_green += [(100. * len(filter_data(data, {'converged':False, 'criterion':False}, c=x)))/len(data)]\n",
    "    #test_gray1 += [(100. * len(filter_data(data, {'converged':True, 'criterion':True}, c=x)))/len(data)]\n",
    "    #test_gray2 += [(100. * len(filter_data(data, {'converged':True, 'criterion':False}, c=x)))/len(data)]\n",
    "\n",
    "    test_orange += [(100. * len(filter(lambda d: false_detection(d, epsilon = epsilon, c=x), data)))/len(data)]\n",
    "    test_red += [(100. * len(filter(lambda d: fault_no_detection(d, epsilon = epsilon, c=x), data)))/len(data)]\n",
    "    test_green += [(100. * len(filter(lambda d: fault_detection(d, epsilon = epsilon, c=x), data)))/len(data)]\n",
    "    test_gray1 += [(100. * len(filter(lambda d: no_impact_fault_no_detection(d, epsilon = epsilon, c=x), data)))/len(data)]\n",
    "    test_gray2 += [(100. * len(filter(lambda d: no_impact_fault_detection(d, epsilon = epsilon, c=x), data)))/len(data)]\n",
    "    \n",
    "\n",
    "Y = np.row_stack((test_gray1, test_gray2, test_green, test_red))   \n",
    "Y = np.cumsum(Y, axis=0)  \n",
    "\n",
    "fig = plt.figure()\n",
    "ax = fig.add_subplot(111)\n",
    "\n",
    "#ax.plot(X, test_orange, c=\"orange\", linestyle=\"--\")\n",
    "ax.fill_between(X, 0, Y[0,:], facecolor=\"lightgray\", alpha=.7, label=\"No impact fault not detected\")\n",
    "ax.fill_between(X, Y[0,:], Y[1,:], facecolor=\"darkgray\", alpha=.7, label=\"No impact fault detected\")\n",
    "ax.fill_between(X, Y[1,:], Y[2,:], facecolor=\"green\", alpha=.7, label=\"Critical fault detected\")\n",
    "ax.fill_between(X, Y[2,:], Y[3,:], facecolor=\"red\",alpha=.7, label=\"Critical fault not detected\")\n",
    "ax.set_xscale('log')\n",
    "ax.set_ylim([0, 100])\n",
    "ax.set_xlim([0.0001, 1])\n",
    "ax.set_xlabel(\"c\")\n",
    "ax.set_ylabel(\"%\")\n",
    "ax.set_title(\"Test result repartition\")\n",
    "\n",
    "p1 = plt.Rectangle((0, 0), 1, 1, fc=\"green\", alpha=.7)\n",
    "p2 = plt.Rectangle((0, 0), 1, 1, fc=\"lightgray\", alpha=.7)\n",
    "p3 = plt.Rectangle((0, 0), 1, 1, fc=\"darkgray\", alpha=.7)\n",
    "p4 = plt.Rectangle((0, 0), 1, 1, fc=\"red\", alpha=.7)\n",
    "plt.legend([p1, p2, p3, p4], [\"Critical fault detected\", \"No impact fault ignored\", \"No impact fault detected\", \"Critical fault ignored\"], loc=4)\n",
    "plt.plot([0.5, 0.5], [0, 100], c = \"red\", linestyle = \"--\")\n",
    "plt.show()"
   ]
  },
  {
   "cell_type": "code",
   "execution_count": null,
   "metadata": {
    "collapsed": false
   },
   "outputs": [],
   "source": [
    "c = 0.5"
   ]
  },
  {
   "cell_type": "code",
   "execution_count": null,
   "metadata": {
    "collapsed": false
   },
   "outputs": [],
   "source": [
    "for d in filter(lambda d: fault_no_detection(d, epsilon = epsilon, c=0.5), data)[0:10]:\n",
    "    gmres_display.convergence_history(d, data_no_fault = F.get_data()[0], c = 0.5, fault = True, delta = True, checksum=True, threshold = True, ylim = (1.e-16, 1), xytext = (1, 1.e-16), bbox_to_anchor=(0.6, 0.8))\n",
    "    print d[\"faults\"][0]\n",
    "    k = d[\"faults\"][0][\"timer\"]\n",
    "    print d[\"y\"][d[\"faults\"][0][\"timer\"]][d[\"faults\"][0][\"timer\"]]\n",
    "    print d[\"threshold\"][d[\"faults\"][0][\"timer\"]]\n",
    "    print d[\"checksum\"][d[\"faults\"][0][\"timer\"]]\n",
    "    print d[\"H\"][k, k]\n",
    "    plt.matshow(d[\"V\"])\n",
    "    plt.matshow(d[\"H\"])\n",
    "    plt.show()"
   ]
  },
  {
   "cell_type": "code",
   "execution_count": null,
   "metadata": {
    "collapsed": false
   },
   "outputs": [],
   "source": [
    "\n",
    "\n",
    "gmres_display.show_test_result(data, F.get_data()[0], c=c, epsilon = epsilon)    \n",
    "plt.show()\n",
    "\n"
   ]
  },
  {
   "cell_type": "code",
   "execution_count": null,
   "metadata": {
    "collapsed": false
   },
   "outputs": [],
   "source": [
    "\n"
   ]
  },
  {
   "cell_type": "code",
   "execution_count": null,
   "metadata": {
    "collapsed": false
   },
   "outputs": [],
   "source": [
    "import os\n",
    "\n",
    "epsilon = epsilon\n",
    "c = 0.5\n",
    "\n",
    "F_parameters[\"restart\"] = None\n",
    "F_parameters[\"tol\"] = epsilon / 1000\n",
    "F_parameters[\"save_data\"] = {\"iteration_count\",\n",
    "                             \"residual\",\n",
    "                             \"residuals\",\n",
    "                             \"true_residual\",\n",
    "                             \"true_residuals\",\n",
    "                             \"faults\",\n",
    "                             \"H\",\n",
    "                             \"V\",\n",
    "                             \"y\",\n",
    "                             \"checksum\",\n",
    "                             \"delta\",\n",
    "                             \"true_delta\"\n",
    "                            }\n",
    "F_parameters[\"vulnerable\"] = False\n",
    "\n",
    "for mat_file in os.listdir(os.getcwd())[:1]:\n",
    "    #try:\n",
    "        if mat_file.endswith(\".mat\"): \n",
    "            \n",
    "            _inputs = [load_mat(mat_file, sparse = True)]\n",
    "            _F = Experiment(Parameters({\"tol\":epsilon}), gmres_algorithm)\n",
    "            _F.set_inputs(_inputs)\n",
    "            _F.run(n = 1)\n",
    "            if has_converged(F.get_data()[0], epsilon = epsilon):\n",
    "                _min_iteration = when_has_converged(_F.get_data()[0], epsilon = epsilon)\n",
    "                if _min_iteration and _min_iteration > 4:\n",
    "                    _G = Experiment(experiment_parameters_generator_random(m=_min_iteration, tol = (1-c)*epsilon), gmres_algorithm)\n",
    "                    _G.set_inputs(inputs)\n",
    "                    _G.run(show_progress=True, n=500)\n",
    "                    _data = filter(lambda d: len(d[\"faults\"]) > 0, _G.get_data())\n",
    "                    gmres_display.show_test_result(_data, _F.get_data()[0], c = c, epsilon = epsilon)\n",
    "                    print mat_file\n",
    "    #except RuntimeError:\n",
    "        #print \"Problem with \", mat_file\n",
    "        #pass\n",
    "\n",
    "\n"
   ]
  }
 ],
 "metadata": {
  "kernelspec": {
   "display_name": "Python 2",
   "language": "python",
   "name": "python2"
  },
  "language_info": {
   "codemirror_mode": {
    "name": "ipython",
    "version": 2
   },
   "file_extension": ".py",
   "mimetype": "text/x-python",
   "name": "python",
   "nbconvert_exporter": "python",
   "pygments_lexer": "ipython2",
   "version": "2.7.12"
  }
 },
 "nbformat": 4,
 "nbformat_minor": 0
}
