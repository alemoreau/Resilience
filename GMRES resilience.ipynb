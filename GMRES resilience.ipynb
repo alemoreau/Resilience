{
 "cells": [
  {
   "cell_type": "code",
   "execution_count": 1,
   "metadata": {
    "collapsed": true
   },
   "outputs": [],
   "source": [
    "%matplotlib inline\n",
    "import matplotlib\n",
    "import matplotlib.pyplot as plt"
   ]
  },
  {
   "cell_type": "code",
   "execution_count": 2,
   "metadata": {
    "collapsed": false
   },
   "outputs": [],
   "source": [
    "import numpy as np\n",
    "from scipy.sparse.linalg import LinearOperator\n",
    "from scipy.linalg import solve_triangular\n",
    "from sys import stdout\n",
    "import math\n"
   ]
  },
  {
   "cell_type": "code",
   "execution_count": 3,
   "metadata": {
    "collapsed": true
   },
   "outputs": [],
   "source": [
    "from Experiment import *\n",
    "from Parameters import *\n",
    "from Fault import *\n",
    "from Algorithm import *\n",
    "from Utils import *"
   ]
  },
  {
   "cell_type": "code",
   "execution_count": 4,
   "metadata": {
    "collapsed": true
   },
   "outputs": [],
   "source": [
    "from gmres import *\n",
    "import gmres_display"
   ]
  },
  {
   "cell_type": "code",
   "execution_count": null,
   "metadata": {
    "collapsed": false
   },
   "outputs": [],
   "source": []
  },
  {
   "cell_type": "code",
   "execution_count": null,
   "metadata": {
    "collapsed": false
   },
   "outputs": [],
   "source": []
  },
  {
   "cell_type": "markdown",
   "metadata": {},
   "source": [
    "### Define algorithm parameters"
   ]
  },
  {
   "cell_type": "code",
   "execution_count": 5,
   "metadata": {
    "collapsed": true
   },
   "outputs": [],
   "source": [
    "# parameters that won't change during the whole experiment\n",
    "epsilon = 1.e-10\n",
    "\n",
    "algorithm_parameters = Parameters()\n",
    "algorithm_parameters[\"restart\"] = None\n",
    "algorithm_parameters[\"tol\"] = epsilon\n",
    "algorithm_parameters[\"save_data\"] = {\"iteration_count\",\n",
    "                                     \"residual\",\n",
    "                                     \"residuals\",\n",
    "                                     \"true_residual\",\n",
    "                                     \"true_residuals\",\n",
    "                                     #\"orthogonality\",\n",
    "                                     #\"arnoldi\",\n",
    "                                     \"faults\",\n",
    "                                     \"H\",\n",
    "                                     \"V\",\n",
    "                                     \"givens\",\n",
    "                                     \"y\",\n",
    "                                     \"checksum\",\n",
    "                                     #\"threshold\",\n",
    "                                     #\"criteria\",\n",
    "                                     #\"delta\",\n",
    "                                     #\"true_delta\"\n",
    "                                    }\n",
    "\n"
   ]
  },
  {
   "cell_type": "markdown",
   "metadata": {},
   "source": [
    "### define faulty matvec operator"
   ]
  },
  {
   "cell_type": "code",
   "execution_count": 6,
   "metadata": {
    "collapsed": true
   },
   "outputs": [],
   "source": [
    "def faulty_product(A, Faulty = None):\n",
    "    if Faulty:\n",
    "        return lambda v: Faulty.product(A, v)\n",
    "    else:\n",
    "        return lambda v: A.dot(v)"
   ]
  },
  {
   "cell_type": "markdown",
   "metadata": {},
   "source": [
    "### Define implementation and callback"
   ]
  },
  {
   "cell_type": "code",
   "execution_count": 7,
   "metadata": {
    "collapsed": false
   },
   "outputs": [],
   "source": [
    "def implementation(self, input, algorithm_parameters, experiment_parameters):\n",
    "    A = input[\"A\"]\n",
    "    b = input[\"b\"]\n",
    "    x0= input[\"x0\"]\n",
    "    \n",
    "    parameters = algorithm_parameters.copy()\n",
    "    parameters.update(experiment_parameters)\n",
    "    \n",
    "    n = A.shape[0]\n",
    "    normb = np.linalg.norm(b)\n",
    "    maxiter = parameters.get(\"maxiter\", n)\n",
    "    tol = parameters.get(\"tol\", 1.e-10)\n",
    "    restart = parameters.get(\"restart\", None)\n",
    "    m = restart if restart else maxiter\n",
    "    save_data = parameters.get(\"save_data\", {})\n",
    "    A1T = A.sum(axis=0)\n",
    "    \n",
    "    if \"residuals\" in save_data:\n",
    "        self.data[\"residuals\"] = [1.]\n",
    "    if \"true_residuals\" in save_data:    \n",
    "        self.data[\"true_residuals\"] = [1.]\n",
    "    if \"measured_checksum\" in save_data:\n",
    "        self.data[\"measured_checksum\"] = [0.]\n",
    "    if \"true_checksum\" in save_data:\n",
    "        self.data[\"true_checksum\"] = [0.]\n",
    "    if \"checksum\" in save_data:\n",
    "        self.data[\"checksum\"] = [0.]\n",
    "    if \"true_delta\" in save_data:\n",
    "        self.data[\"true_delta\"] = [0.]\n",
    "    if \"delta\" in save_data:\n",
    "        self.data[\"delta\"] = [0.]\n",
    "    if \"y\" in save_data:\n",
    "        self.data[\"y\"] = np.zeros((maxiter, maxiter))\n",
    "    \n",
    "    if parameters.get(\"vulnerable\", True):\n",
    "        faulty = Fault(parameters.get(\"fault_parameters\", Parameters()))\n",
    "    else:\n",
    "        faulty = None\n",
    "    A_ = LinearOperator((n, n), \n",
    "                        matvec=faulty_product(A, faulty),\n",
    "                        dtype=A.dtype)\n",
    "\n",
    "    def callback(iter_num, resid, work, work2, ijob):\n",
    "        R = work[0*n:1*n]\n",
    "        S = work[1*n:2*n]\n",
    "        W = work[2*n:3*n]\n",
    "        Y = work[3*n:4*n]\n",
    "        AV= work[4*n:5*n]\n",
    "        V = work[5*n:(5+iter_num)*n]\n",
    "        v = work[(5+iter_num) * n:(6 + iter_num)*n]\n",
    "        H = work2[:iter_num*(m+1)]\n",
    "        c = work2[m*(m+1):m*(m+2)]\n",
    "        s = work2[m*(m+2):m*(m+3)]\n",
    "        \n",
    "        if (ijob == 3):\n",
    "            if (\"measured_checksum\" in save_data or \n",
    "                \"checksum\" in save_data):\n",
    "                measured_checksum = np.sum(AV)\n",
    "            if (\"true_checksum\" in save_data or \n",
    "                \"checksum\" in save_data):\n",
    "                true_checksum = np.dot(A1T, v)\n",
    "            if \"measured_checksum\" in save_data:\n",
    "                self.data[\"measured_checksum\"] += [measured_checksum]\n",
    "            if \"true_checksum\" in save_data:\n",
    "                self.data[\"true_checksum\"] += [true_checksum]\n",
    "            if \"checksum\" in save_data:\n",
    "                self.data[\"checksum\"] += [abs(measured_checksum - \n",
    "                                                   true_checksum)[0, 0]]\n",
    "\n",
    "\n",
    "\n",
    "        if (\"H\" in save_data or \n",
    "            \"V\" in save_data or\n",
    "            \"y\" in save_data or \n",
    "            \"delta\" in save_data or\n",
    "            \"true_delta\" in save_data or\n",
    "            \"true_residual\" in save_data or\n",
    "            \"true_residuals\" in save_data):\n",
    "            H = H.reshape((iter_num, m+1))[:,:iter_num]\n",
    "            V = V.reshape((iter_num, n))\n",
    "            S = S[:iter_num]\n",
    "            if (\"y\" in save_data or \n",
    "                \"true_residuals\" in save_data or \n",
    "                \"true_delta\" in save_data or \n",
    "                \"delta\" in save_data):\n",
    "                try:\n",
    "                    y = solve_triangular(H.T, S)\n",
    "                except:\n",
    "                    y = np.zeros(S.shape)\n",
    "                true_resid = np.linalg.norm(A.dot(x0+np.dot(V.T, y)) - b) / normb\n",
    "        \n",
    "        if \"y\" in save_data:\n",
    "            self.data[\"y\"][:y.shape[0], iter_num-1] = y\n",
    "        if \"iteration_count\" in save_data:\n",
    "            self.data[\"iteration_count\"] = iter_num \n",
    "        if \"residual\" in save_data:\n",
    "            self.data[\"residual\"] = resid\n",
    "        if \"residuals\" in save_data:\n",
    "            self.data[\"residuals\"] += [resid]\n",
    "        if \"true_residual\" in save_data:\n",
    "            self.data[\"true_residual\"] = true_resid\n",
    "        if \"true_residuals\" in save_data:\n",
    "            self.data[\"true_residuals\"] += [true_resid]\n",
    "        if \"delta\" in save_data:\n",
    "            self.data[\"delta\"] += [abs(resid - true_resid)] #TODO\n",
    "        if \"true_delta\" in save_data:\n",
    "            self.data[\"true_delta\"] += [abs(resid - true_resid)] \n",
    "\n",
    "              \n",
    "        if \"H\" in save_data:\n",
    "            self.data[\"H\"] = H.T\n",
    "        if \"V\" in save_data:\n",
    "            self.data[\"V\"] = V.T\n",
    "        if \"givens\" in save_data:\n",
    "            self.data[\"givens_c\"] = c[:iter_num]\n",
    "            self.data[\"givens_s\"] = s[:iter_num]\n",
    "\n",
    "        if faulty and \"faults\" in save_data:\n",
    "            self.data[\"faults\"] = faulty.faults\n",
    "            \n",
    "    x = gmres(A_, \n",
    "              b, \n",
    "              x0, \n",
    "              tol = tol,\n",
    "              maxiter = maxiter,\n",
    "              restart = restart,\n",
    "              callback = callback if parameters.get(\"save_data\", None) else None\n",
    "             )\n",
    "    return x"
   ]
  },
  {
   "cell_type": "code",
   "execution_count": 8,
   "metadata": {
    "collapsed": true
   },
   "outputs": [],
   "source": [
    "gmres_algorithm = Algorithm(algorithm_parameters, implementation)"
   ]
  },
  {
   "cell_type": "markdown",
   "metadata": {},
   "source": [
    "### Define gmres inputs (linear system to be solved)"
   ]
  },
  {
   "cell_type": "code",
   "execution_count": 9,
   "metadata": {
    "collapsed": false
   },
   "outputs": [
    {
     "name": "stdout",
     "output_type": "stream",
     "text": [
      "1080\n"
     ]
    }
   ],
   "source": [
    "input = load_mat(\"mat_files/sherman2.mat\", sparse = True)\n",
    "A = input[\"A\"]\n",
    "b = input[\"b\"]\n",
    "x0 = input[\"x0\"]\n",
    "inputs = [input]\n",
    "n = A.shape[0]\n",
    "problem = input[\"problem\"]\n",
    "print n"
   ]
  },
  {
   "cell_type": "code",
   "execution_count": 10,
   "metadata": {
    "collapsed": false
   },
   "outputs": [
    {
     "data": {
      "application/pdf": "[encoded data removed]",
      "image/png": "[encoded data removed]",
      "text/plain": [
       "<matplotlib.figure.Figure at 0x7ff8eafebd90>"
      ]
     },
     "metadata": {},
     "output_type": "display_data"
    }
   ],
   "source": [
    "try:\n",
    "    plt.matshow(A)\n",
    "except:\n",
    "    plt.matshow(A.toarray())"
   ]
  },
  {
   "cell_type": "markdown",
   "metadata": {},
   "source": [
    "## Run GMRES"
   ]
  },
  {
   "cell_type": "code",
   "execution_count": 11,
   "metadata": {
    "collapsed": true
   },
   "outputs": [],
   "source": [
    "# Parameters that may change during the experiment\n",
    "# Experiment parameters override Algorithm parameters\n",
    "experiment_parameters = Parameters()\n",
    "\n",
    "experiment_parameters[\"vulnerable\"] = False\n",
    "experiment_parameters[\"tol\"] = epsilon\n",
    "experiment_parameters[\"full\"] = False"
   ]
  },
  {
   "cell_type": "code",
   "execution_count": 12,
   "metadata": {
    "collapsed": true
   },
   "outputs": [],
   "source": [
    "F = Experiment(experiment_parameters, gmres_algorithm)\n",
    "F.set_inputs(inputs)"
   ]
  },
  {
   "cell_type": "code",
   "execution_count": 13,
   "metadata": {
    "collapsed": false
   },
   "outputs": [
    {
     "name": "stdout",
     "output_type": "stream",
     "text": [
      "\r",
      "Complete ! \n"
     ]
    }
   ],
   "source": [
    "F.run(show_progress=True, n=1)"
   ]
  },
  {
   "cell_type": "code",
   "execution_count": 14,
   "metadata": {
    "collapsed": false
   },
   "outputs": [],
   "source": [
    "import os\n",
    "import sys\n",
    "#import mysql.connector as mariadb\n",
    "import pymysql as mariadb\n",
    "mariadb_connection = mariadb.connect(user='resilience', \n",
    "                                     #password='resilience_password', \n",
    "                                     passwd='resilience_password',\n",
    "                                     #host='192.168.1.48',\n",
    "                                     database='gmres')\n",
    "cursor = mariadb_connection.cursor()\n"
   ]
  },
  {
   "cell_type": "code",
   "execution_count": 15,
   "metadata": {
    "collapsed": false
   },
   "outputs": [],
   "source": [
    "\n",
    "def save_linearsystem(input):\n",
    "    try:\n",
    "        cursor.execute(\"\"\"SELECT name FROM LinearSystem WHERE name = %s \"\"\", (str(input[\"name\"]),))\n",
    "        rows = cursor.fetchone()\n",
    "        if (not rows):\n",
    "            cursor.execute(\"\"\"INSERT INTO LinearSystem (file, name) VALUES (%s,%s)\"\"\",(input[\"file\"], str(input[\"name\"])))\n",
    "            mariadb_connection.commit()\n",
    "            return\n",
    "    except:\n",
    "        print sys.exc_info()[0]\n",
    "    mariadb_connection.rollback()\n",
    "        \n",
    "def save_experiment(input, output, parameter, data):\n",
    "    try:\n",
    "        request = \"INSERT INTO Experiment (A, x, tol, m\"\n",
    "        values = [str(input[\"name\"]), output.tostring(), float(parameter[\"tol\"]), int(parameter[\"m\"])]\n",
    "        v = \"%s, %s, %s, %s\"\n",
    "\n",
    "        for key in sorted(data.iterkeys()):\n",
    "            if key == \"faults\" and len(data[\"faults\"]) == 0:\n",
    "                continue\n",
    "                \n",
    "            request += \", \"\n",
    "            v += \", \"\n",
    "            \n",
    "            if key == \"faults\" and len(data[\"faults\"]) > 0:\n",
    "                request += \"fault_i, \"\n",
    "                values += [int(data[\"faults\"][0][\"loc\"][\"i\"])]\n",
    "                v += \"%s, \"\n",
    "                request += \"fault_k, \"\n",
    "                values += [int(data[\"faults\"][0][\"loc\"][\"k\"])]\n",
    "                v += \"%s, \"\n",
    "                request += \"fault_f, \"\n",
    "                values += [int(data[\"faults\"][0][\"timer\"])]\n",
    "                v += \"%s, \"\n",
    "                request += \"fault_bit, \"\n",
    "                values += [int(data[\"faults\"][0][\"bit\"])]\n",
    "                v += \"%s, \"\n",
    "                request += \"fault_reg\"\n",
    "                values += [int(data[\"faults\"][0][\"register\"])]\n",
    "                v += \"%s\" \n",
    "            elif key == \"iteration_count\":\n",
    "                request += \"l\"\n",
    "                values += [int(data[\"iteration_count\"])]\n",
    "                v += \"%s\"\n",
    "\n",
    "            else:\n",
    "                if key != \"faults\":\n",
    "                    request += key\n",
    "                    v += \"%s\"\n",
    "                    if key == \"H\" or key == \"V\" or key == \"y\" or key == \"givens_c\" or key == \"givens_s\":\n",
    "                        values += [data[key].tostring()]\n",
    "                    elif key == \"residuals\" or key == \"true_residuals\" or key == \"checksum\":\n",
    "                        values += [np.asarray(data[key]).tostring()]\n",
    "                    elif key == \"residual\" or key == \"true_residual\":\n",
    "                        values += [float(data[key])]\n",
    "                    elif key == \"iteration_count\":\n",
    "                        values += [int(data[key])]\n",
    "                    else:\n",
    "                        values += [data[key]]\n",
    "        \n",
    "\n",
    "        request += \") VALUES (\" + v + \")\"\n",
    "        cursor.execute(request, tuple(values))\n",
    "\n",
    "        mariadb_connection.commit()\n",
    "\n",
    "    except:\n",
    "        mariadb_connection.rollback()\n",
    "    \n",
    "def save_database_callback(input, output, parameter, data):\n",
    "    save_linearsystem(input)\n",
    "    save_experiment(input, output, parameter, data)"
   ]
  },
  {
   "cell_type": "code",
   "execution_count": null,
   "metadata": {
    "collapsed": true
   },
   "outputs": [],
   "source": [
    "import random\n",
    "\n",
    "def experiment_parameters_generator_random(A, vulnerable = True,\n",
    "                                    tol = 0,\n",
    "                                    m = 0, \n",
    "                                    fault_callback = lambda fault: (stdout.write(\" %s \" % str(fault))),\n",
    "                                    max_iter = 0\n",
    "                                   ):\n",
    "\n",
    "    \n",
    "    parameters = Parameters()\n",
    "    parameters[\"vulnerable\"] = vulnerable\n",
    "    parameters[\"tol\"] = tol\n",
    "    parameters[\"m\"] = max_iter #TODO\n",
    "    fault_parameters = {}\n",
    "    fault_parameters[\"fault_callback\"] = fault_callback\n",
    "    fault_parameters[\"vulnerable\"] = vulnerable\n",
    "            \n",
    "    parameters[\"fault_parameters\"] = fault_parameters\n",
    "        \n",
    "    while (True):\n",
    "        non_zero = A.nonzero()\n",
    "        index = int(np.random.rand()*len(non_zero[0]))\n",
    "        fault_parameters[\"fault_indices\"] = {\"i\": non_zero[0][index], \n",
    "                                             \"j\":0, \n",
    "                                             \"k\": non_zero[1][index]}\n",
    "\n",
    "        fault_parameters[\"timer\"] = random.choice([i for i in xrange(m)])\n",
    "        fault_parameters[\"bit\"] = 1#random.choice([i for i in xrange(64)])\n",
    "        yield parameters"
   ]
  },
  {
   "cell_type": "code",
   "execution_count": null,
   "metadata": {
    "collapsed": false
   },
   "outputs": [
    {
     "name": "stdout",
     "output_type": "stream",
     "text": [
      "rajat12.mat\n",
      "9 %  {'register_before': 0.085473090228741305, 'loc': {'i': 1135, 'k': 1139, 'j': 0}, 'value_before': 0.034677530398891147, 'register': 2, 'timer': 312, 'register_after': 0.08547499757737412, 'bit': 26, 'value_after': 0.034677528628871614}  {'register_before': -3.4180201999785322e-05, 'loc': {'i': 700, 'k': 0, 'j': 0}, 'value_before': 0.0003920021378196375, 'register': 3, 'timer': 229, 'register_after': -3.418020199978535e-05, 'bit': 61, 'value_after': 0.00039200213781963745}  {'register_before': -0.068599999999999994, 'loc': {'i': 984, 'k': 0, 'j': 0}, 'value_before': -0.00028879946519791422, 'register': 1, 'timer': 66, 'register_after': -3.71881345162528e-21, 'bit': 5, 'value_after': -0.00037223383740780025}  {'register_before': -0.093599220570611374, 'loc': {'i': 1355, 'k': 1355, 'j': 0}, 'value_before': -0.021724316740278186, 'register': 2, 'timer': 201, 'register_after': -0.09360684996514262, 'bit': 24, 'value_after': -0.021726131765607774}  {'register_before': 0.0012505082041981861, 'loc': {'i': 1273, 'k': 1, 'j': 0}, 'value_before': -0.0065635100681742109, 'register': 3, 'timer': 206, 'register_after': 0.001250508204197742, 'bit': 52, 'value_after': -0.006563510068174655}  {'register_before': 0.0024760256562741702, 'loc': {'i': 932, 'k': 994, 'j': 0}, 'value_before': -0.044834057547292194, 'register': 2, 'timer': 13, 'register_after': 0.00198774440627417, 'bit': 13, 'value_after': -0.044150219656667197}  {'register_before': 1.429848, 'loc': {'i': 87, 'k': 87, 'j': 0}, 'value_before': -0.00082081872232423869, 'register': 1, 'timer': 247, 'register_after': 1.431801125, 'bit': 20, 'value_after': -0.00082307916827764182}  {'register_before': -0.0037347512484911423, 'loc': {'i': 10, 'k': 263, 'j': 0}, 'value_before': -0.00017057669136658245, 'register': 2, 'timer': 108, 'register_after': -0.0037347437979105454, 'bit': 29, 'value_after': -0.00017058712483182439}  {'register_before': -0.004156, 'loc': {'i': 1197, 'k': 1206, 'j': 0}, 'value_before': 0.0042286934461034957, 'register': 1, 'timer': 94, 'register_after': -0.002078, 'bit': 11, 'value_after': 0.0042085770795461932}  {'register_before': 0.020085268683798948, 'loc': {'i': 1120, 'k': 1119, 'j': 0}, 'value_before': -0.011770099696181435, 'register': 2, 'timer': 70, 'register_after': 0.08034107473519579, 'bit': 10, 'value_after': -0.012014376733913798} "
     ]
    }
   ],
   "source": [
    "\n",
    "F_parameters = Parameters()\n",
    "F_parameters[\"restart\"] = None\n",
    "F_parameters[\"tol\"] = epsilon\n",
    "F_parameters[\"vulnerable\"] = False\n",
    "\n",
    "\n",
    "for mat_file in os.listdir(os.getcwd()+os.sep+\"mat_files\", ):\n",
    "    try:\n",
    "        if mat_file.endswith(\".mat\"): \n",
    "            print mat_file\n",
    "            _inputs = [load_mat(os.getcwd()+os.sep+\"mat_files\"+os.sep+mat_file, sparse = True)]\n",
    "            F_parameters[\"m\"] = _inputs[0][\"A\"].shape[0]\n",
    "            _F = Experiment(F_parameters, gmres_algorithm, callback=save_database_callback, save_data=True)\n",
    "            _F.set_inputs(_inputs)\n",
    "            _F.run(n = 1)\n",
    "            if has_converged(_F.get_data()[0], epsilon = epsilon):\n",
    "                _min_iteration = when_has_converged(_F.get_data()[0], epsilon = epsilon)\n",
    "                if _min_iteration and _min_iteration > 5:\n",
    "                    _G = Experiment(experiment_parameters_generator_random(A = _inputs[0][\"A\"], m=_min_iteration-1, tol = epsilon / 100, max_iter=_inputs[0][\"A\"].shape[0]), \n",
    "                                    gmres_algorithm, \n",
    "                                    callback=save_database_callback,\n",
    "                                    save_data = False)\n",
    "                    _G.set_inputs(_inputs)\n",
    "                    _G.run(show_progress=True, n=1000)\n",
    "                    #_data = filter(lambda d: len(d[\"faults\"]) > 0 and not d[\"breakdown\"], _G.get_data())\n",
    "    except RuntimeError:\n",
    "        print \"Problème avec \", mat_file"
   ]
  },
  {
   "cell_type": "code",
   "execution_count": null,
   "metadata": {
    "collapsed": false
   },
   "outputs": [],
   "source": [
    "mariadb_connection.close()"
   ]
  }
 ],
 "metadata": {
  "kernelspec": {
   "display_name": "Python 2",
   "language": "python",
   "name": "python2"
  },
  "language_info": {
   "codemirror_mode": {
    "name": "ipython",
    "version": 2
   },
   "file_extension": ".py",
   "mimetype": "text/x-python",
   "name": "python",
   "nbconvert_exporter": "python",
   "pygments_lexer": "ipython2",
   "version": "2.7.12"
  }
 },
 "nbformat": 4,
 "nbformat_minor": 0
}
