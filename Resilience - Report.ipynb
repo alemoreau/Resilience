{
 "cells": [
  {
   "cell_type": "markdown",
   "metadata": {},
   "source": [
    "# Criterion for convergence in backward error after fault"
   ]
  },
  {
   "cell_type": "code",
   "execution_count": 1,
   "metadata": {
    "collapsed": true
   },
   "outputs": [],
   "source": [
    "%matplotlib inline"
   ]
  },
  {
   "cell_type": "code",
   "execution_count": 2,
   "metadata": {
    "collapsed": true
   },
   "outputs": [],
   "source": [
    "import numpy as np\n",
    "from sys import stdout\n",
    "import math\n"
   ]
  },
  {
   "cell_type": "markdown",
   "metadata": {},
   "source": []
  },
  {
   "cell_type": "markdown",
   "metadata": {},
   "source": []
  },
  {
   "cell_type": "markdown",
   "metadata": {},
   "source": []
  },
  {
   "cell_type": "markdown",
   "metadata": {},
   "source": []
  },
  {
   "cell_type": "markdown",
   "metadata": {},
   "source": []
  },
  {
   "cell_type": "markdown",
   "metadata": {},
   "source": [
    "## Import modules"
   ]
  },
  {
   "cell_type": "code",
   "execution_count": 3,
   "metadata": {
    "collapsed": false
   },
   "outputs": [],
   "source": [
    "from Experiment import *\n",
    "from Parameters import *\n",
    "from Fault import *\n",
    "from Algorithm import *\n",
    "from Utils import *"
   ]
  },
  {
   "cell_type": "markdown",
   "metadata": {},
   "source": [
    "## Algorithm initialization"
   ]
  },
  {
   "cell_type": "code",
   "execution_count": 4,
   "metadata": {
    "collapsed": false
   },
   "outputs": [],
   "source": [
    "import gmres\n",
    "import gmres_display"
   ]
  },
  {
   "cell_type": "markdown",
   "metadata": {},
   "source": [
    "### algorithm parameters"
   ]
  },
  {
   "cell_type": "code",
   "execution_count": 5,
   "metadata": {
    "collapsed": false
   },
   "outputs": [
    {
     "ename": "AttributeError",
     "evalue": "'module' object has no attribute 'modified_gramschmidt'",
     "output_type": "error",
     "traceback": [
      "\u001b[1;31m---------------------------------------------------------------------------\u001b[0m",
      "\u001b[1;31mAttributeError\u001b[0m                            Traceback (most recent call last)",
      "\u001b[1;32m<ipython-input-5-9796bb1d1ee5>\u001b[0m in \u001b[0;36m<module>\u001b[1;34m()\u001b[0m\n\u001b[0;32m      3\u001b[0m \u001b[1;33m\u001b[0m\u001b[0m\n\u001b[0;32m      4\u001b[0m \u001b[0malgorithm_parameters\u001b[0m \u001b[1;33m=\u001b[0m \u001b[0mParameters\u001b[0m\u001b[1;33m(\u001b[0m\u001b[1;33m)\u001b[0m\u001b[1;33m\u001b[0m\u001b[0m\n\u001b[1;32m----> 5\u001b[1;33m \u001b[0malgorithm_parameters\u001b[0m\u001b[1;33m[\u001b[0m\u001b[1;34m\"orthMethod\"\u001b[0m\u001b[1;33m]\u001b[0m \u001b[1;33m=\u001b[0m \u001b[0mgmres\u001b[0m\u001b[1;33m.\u001b[0m\u001b[0mmodified_gramschmidt\u001b[0m\u001b[1;33m\u001b[0m\u001b[0m\n\u001b[0m\u001b[0;32m      6\u001b[0m \u001b[0malgorithm_parameters\u001b[0m\u001b[1;33m[\u001b[0m\u001b[1;34m\"dtype\"\u001b[0m\u001b[1;33m]\u001b[0m \u001b[1;33m=\u001b[0m \u001b[1;34m'd'\u001b[0m\u001b[1;33m\u001b[0m\u001b[0m\n\u001b[0;32m      7\u001b[0m \u001b[0malgorithm_parameters\u001b[0m\u001b[1;33m[\u001b[0m\u001b[1;34m\"vulnerable\"\u001b[0m\u001b[1;33m]\u001b[0m \u001b[1;33m=\u001b[0m \u001b[0mTrue\u001b[0m\u001b[1;33m\u001b[0m\u001b[0m\n",
      "\u001b[1;31mAttributeError\u001b[0m: 'module' object has no attribute 'modified_gramschmidt'"
     ]
    }
   ],
   "source": [
    "# parameters that won't change during the whole experiment\n",
    "epsilon = 1.e-10\n",
    "\n",
    "algorithm_parameters = Parameters()\n",
    "algorithm_parameters[\"orthMethod\"] = gmres.modified_gramschmidt\n",
    "algorithm_parameters[\"dtype\"] = 'd'\n",
    "algorithm_parameters[\"vulnerable\"] = True\n",
    "algorithm_parameters[\"save_data\"] = {\"iteration_count\",\n",
    "                                     \"residual\",\n",
    "                                     \"residuals\",\n",
    "                                     \"true_residual\",\n",
    "                                     \"true_residuals\",\n",
    "                                     \"orthogonality\",\n",
    "                                     #\"arnoldi\",\n",
    "                                     \"faults\",\n",
    "                                     \"H\",\n",
    "                                     \"V\",\n",
    "                                     \"y\",\n",
    "                                     \"checksum\",\n",
    "                                     \"threshold\",\n",
    "                                     \"criteria\",\n",
    "                                     \"delta\"\n",
    "                                    }"
   ]
  },
  {
   "cell_type": "markdown",
   "metadata": {},
   "source": [
    "### implementation"
   ]
  },
  {
   "cell_type": "code",
   "execution_count": null,
   "metadata": {
    "collapsed": true
   },
   "outputs": [],
   "source": [
    "def implementation(self, input, algorithm_parameters, experiment_parameters):\n",
    "    gmres.implementation(self, input, algorithm_parameters, experiment_parameters)"
   ]
  },
  {
   "cell_type": "code",
   "execution_count": null,
   "metadata": {
    "collapsed": true
   },
   "outputs": [],
   "source": [
    "gmres_algorithm = Algorithm(algorithm_parameters, implementation)"
   ]
  },
  {
   "cell_type": "markdown",
   "metadata": {},
   "source": []
  },
  {
   "cell_type": "markdown",
   "metadata": {},
   "source": [
    "## Experiment setup"
   ]
  },
  {
   "cell_type": "markdown",
   "metadata": {
    "collapsed": true
   },
   "source": [
    "## Load input"
   ]
  },
  {
   "cell_type": "code",
   "execution_count": null,
   "metadata": {
    "collapsed": false
   },
   "outputs": [],
   "source": [
    "input = load_mat(\"./gre_216a.mat\") #load_mat(\"./gre_216a.mat\")\n",
    "A = input[\"A\"]\n",
    "inputs = [input]\n",
    "n = A.shape[0]"
   ]
  },
  {
   "cell_type": "code",
   "execution_count": null,
   "metadata": {
    "collapsed": false
   },
   "outputs": [],
   "source": [
    "plt.matshow(A)"
   ]
  },
  {
   "cell_type": "markdown",
   "metadata": {
    "collapsed": true
   },
   "source": [
    "## Experiment initialization"
   ]
  },
  {
   "cell_type": "markdown",
   "metadata": {},
   "source": []
  },
  {
   "cell_type": "markdown",
   "metadata": {
    "collapsed": false
   },
   "source": [
    "### Experiment parameters"
   ]
  },
  {
   "cell_type": "code",
   "execution_count": null,
   "metadata": {
    "collapsed": true
   },
   "outputs": [],
   "source": []
  },
  {
   "cell_type": "code",
   "execution_count": null,
   "metadata": {
    "collapsed": false
   },
   "outputs": [],
   "source": [
    "# Parameters that may change during the experiment\n",
    "# Experiment parameters override Algorithm parameters\n",
    "experiment_parameters = Parameters()\n",
    "\n",
    "experiment_parameters[\"vulnerable\"] = False\n",
    "experiment_parameters[\"tol\"] = epsilon\n",
    "experiment_parameters[\"full\"] = False"
   ]
  },
  {
   "cell_type": "code",
   "execution_count": null,
   "metadata": {
    "collapsed": true
   },
   "outputs": [],
   "source": [
    "F = Experiment(experiment_parameters, gmres_algorithm)\n",
    "F.set_inputs(inputs)"
   ]
  },
  {
   "cell_type": "markdown",
   "metadata": {},
   "source": [
    "## Run experiment"
   ]
  },
  {
   "cell_type": "code",
   "execution_count": null,
   "metadata": {
    "collapsed": false
   },
   "outputs": [],
   "source": [
    "F.run(show_progress=True, n=1)"
   ]
  },
  {
   "cell_type": "code",
   "execution_count": null,
   "metadata": {
    "collapsed": false
   },
   "outputs": [],
   "source": [
    "minimum = min(filter(lambda d: d[1] < epsilon, enumerate(F.get_data(\"true_residuals\")[0])),\n",
    "                    key=lambda d: d[0])\n",
    "print minimum\n",
    "min_iteration = minimum[0]"
   ]
  },
  {
   "cell_type": "code",
   "execution_count": null,
   "metadata": {
    "collapsed": false
   },
   "outputs": [],
   "source": [
    "gmres_display.convergence_history(F.get_data()[0], ylim = (epsilon/10, 1))"
   ]
  },
  {
   "cell_type": "markdown",
   "metadata": {},
   "source": [
    "## Effect of faults in GMRES"
   ]
  },
  {
   "cell_type": "markdown",
   "metadata": {
    "collapsed": false
   },
   "source": [
    "### Experiment parameters"
   ]
  },
  {
   "cell_type": "code",
   "execution_count": null,
   "metadata": {
    "collapsed": false
   },
   "outputs": [],
   "source": [
    "# Parameters that may change during the experiment\n",
    "experiment_parameters = Parameters()\n",
    "\n",
    "experiment_parameters[\"vulnerable\"] = True\n",
    "fault_parameters = {}\n",
    "fault_parameters[\"fault_callback\"] = lambda fault: (stdout.write(\" %s \" % str(fault)))\n",
    "fault_parameters[\"register\"] = \"right\"\n",
    "fault_parameters[\"vulnerable\"] = True\n",
    "fault_parameters[\"vulnerable_bits\"] = [int(np.random.rand() * 64)]\n",
    "fault_parameters[\"fault_indices\"] = {\"i\": int(np.random.rand()*n), \n",
    "                                     \"j\":0, \n",
    "                                     \"k\":int(np.random.rand()*n)}\n",
    "fault_parameters[\"timer\"] = int(np.random.rand() * min_iteration)\n",
    "experiment_parameters[\"fault_parameters\"] = fault_parameters\n"
   ]
  },
  {
   "cell_type": "markdown",
   "metadata": {},
   "source": [
    "#### Implementation (gmres)"
   ]
  },
  {
   "cell_type": "code",
   "execution_count": null,
   "metadata": {
    "collapsed": true
   },
   "outputs": [],
   "source": [
    "def implementation(self, input, algorithm_parameters, experiment_parameters):\n",
    "    gmres.implementation(self, input, algorithm_parameters, experiment_parameters)"
   ]
  },
  {
   "cell_type": "code",
   "execution_count": null,
   "metadata": {
    "collapsed": false
   },
   "outputs": [],
   "source": [
    "gmres_algorithm = Algorithm(algorithm_parameters, implementation)"
   ]
  },
  {
   "cell_type": "code",
   "execution_count": null,
   "metadata": {
    "collapsed": false
   },
   "outputs": [],
   "source": [
    "E = Experiment(experiment_parameters, gmres_algorithm)\n",
    "E.set_inputs(inputs)\n",
    "E.run(show_progress=True, n=1)"
   ]
  },
  {
   "cell_type": "code",
   "execution_count": null,
   "metadata": {
    "collapsed": false
   },
   "outputs": [],
   "source": [
    "gmres_display.convergence_history(E.get_data()[0], data_no_fault = F.get_data()[0], fault = True, delta = False,  xlim = (0, 200), ylim = (epsilon/10, 1),xytext = (5, epsilon / 10), bbox_to_anchor=(0.5, 0.85))"
   ]
  },
  {
   "cell_type": "markdown",
   "metadata": {},
   "source": [
    "### Parameters influence"
   ]
  },
  {
   "cell_type": "code",
   "execution_count": null,
   "metadata": {
    "collapsed": true
   },
   "outputs": [],
   "source": [
    "def experiment_parameters_generator(vulnerable = True,\n",
    "                                    tol = epsilon,\n",
    "                                    bits = [40], \n",
    "                                    iterations = [min_iteration/2], \n",
    "                                    registers = [\"left\"], \n",
    "                                    indices = [{\"i\":29, \"j\":0, \"k\":56}],\n",
    "                                    fault_callback = lambda fault: (stdout.write(\" %s \" % str(fault)))\n",
    "                                   ):\n",
    "    parameters = Parameters()\n",
    "    parameters[\"vulnerable\"] = vulnerable\n",
    "    parameters[\"tol\"] = tol\n",
    "    fault_parameters = {}\n",
    "    fault_parameters[\"fault_callback\"] = fault_callback\n",
    "    fault_parameters[\"vulnerable\"] = vulnerable\n",
    "    while (True):\n",
    "\n",
    "        parameters[\"fault_parameters\"] = fault_parameters\n",
    "\n",
    "        for bit in bits:\n",
    "            for iteration in iterations:\n",
    "                for reg in registers:\n",
    "                    for indice in indices:\n",
    "                        fault_parameters[\"vulnerable_bits\"] = [bit]\n",
    "                        fault_parameters[\"timer\"] = iteration\n",
    "                        fault_parameters[\"register\"] = reg\n",
    "                        fault_parameters[\"fault_indices\"] = indice\n",
    "                        yield parameters"
   ]
  },
  {
   "cell_type": "markdown",
   "metadata": {},
   "source": [
    "#### Bit flipped"
   ]
  },
  {
   "cell_type": "code",
   "execution_count": null,
   "metadata": {
    "collapsed": false
   },
   "outputs": [],
   "source": [
    "\n",
    "\n",
    "experiment_parameters = experiment_parameters_generator(bits = [60, 40, 20])\n",
    "\n",
    "E = Experiment(experiment_parameters, gmres_algorithm)\n",
    "E.set_inputs(inputs)\n",
    "E.run(show_progress=True, n=3)"
   ]
  },
  {
   "cell_type": "code",
   "execution_count": null,
   "metadata": {
    "collapsed": false
   },
   "outputs": [],
   "source": [
    "for data in E.get_data():\n",
    "    gmres_display.convergence_history(data, data_no_fault = F.get_data()[0], fault = True, delta = False, ylim = (epsilon/10, 1), xytext = (5, epsilon/10), bbox_to_anchor=(0.5, 0.8))\n",
    "    plt.show()"
   ]
  },
  {
   "cell_type": "markdown",
   "metadata": {},
   "source": [
    "#### Iteration"
   ]
  },
  {
   "cell_type": "code",
   "execution_count": null,
   "metadata": {
    "collapsed": false
   },
   "outputs": [],
   "source": [
    "experiment_parameters = experiment_parameters_generator(iterations = [0, min_iteration / 3, (2 * min_iteration) / 3])\n",
    "\n",
    "E = Experiment(experiment_parameters, gmres_algorithm)\n",
    "E.set_inputs(inputs)\n",
    "E.run(show_progress=True, n=3)"
   ]
  },
  {
   "cell_type": "code",
   "execution_count": null,
   "metadata": {
    "collapsed": false
   },
   "outputs": [],
   "source": [
    "for data in E.get_data():\n",
    "    gmres_display.convergence_history(data, data_no_fault = F.get_data()[0], fault = True, delta = False, ylim = (1.e-16, 1), xytext = (5, 1.e-16), bbox_to_anchor=(0.6, 0.8))\n",
    "    plt.show()"
   ]
  },
  {
   "cell_type": "markdown",
   "metadata": {},
   "source": [
    "#### register"
   ]
  },
  {
   "cell_type": "code",
   "execution_count": null,
   "metadata": {
    "collapsed": false
   },
   "outputs": [],
   "source": [
    "experiment_parameters = experiment_parameters_generator(registers = [\"left\", \"right\", \"middle\"])\n",
    "\n",
    "E = Experiment(experiment_parameters, gmres_algorithm)\n",
    "E.set_inputs(inputs)\n",
    "E.run(show_progress=True, n=3)"
   ]
  },
  {
   "cell_type": "code",
   "execution_count": null,
   "metadata": {
    "collapsed": false
   },
   "outputs": [],
   "source": [
    "for data in E.get_data():\n",
    "    gmres_display.convergence_history(data, data_no_fault = F.get_data()[0], fault = True, delta = False, xlim = (0, 200), ylim = (1.e-16, 1), xytext = (5, 1.e-16), bbox_to_anchor=(0.6, 0.8))\n",
    "    plt.show()"
   ]
  },
  {
   "cell_type": "markdown",
   "metadata": {},
   "source": [
    "#### location"
   ]
  },
  {
   "cell_type": "code",
   "execution_count": null,
   "metadata": {
    "collapsed": false
   },
   "outputs": [],
   "source": [
    "experiment_parameters = experiment_parameters_generator(indices = [{\"i\": int(np.random.rand()*n), \n",
    "                                                                    \"j\":0, \n",
    "                                                                    \"k\":int(np.random.rand()*n)} for i in xrange(3)]  \n",
    ")\n",
    "\n",
    "E = Experiment(experiment_parameters, gmres_algorithm)\n",
    "E.set_inputs(inputs)\n",
    "E.run(show_progress=True, n=3)"
   ]
  },
  {
   "cell_type": "code",
   "execution_count": null,
   "metadata": {
    "collapsed": false
   },
   "outputs": [],
   "source": [
    "for data in E.get_data():\n",
    "    gmres_display.convergence_history(data, data_no_fault = F.get_data()[0], fault = True, delta = False, xlim = (0, 200), ylim = (1.e-16, 1), xytext = (5, 1.e-16), bbox_to_anchor=(0.6, 0.8))\n",
    "    plt.show()"
   ]
  },
  {
   "cell_type": "markdown",
   "metadata": {},
   "source": [
    "## Quantitative study"
   ]
  },
  {
   "cell_type": "code",
   "execution_count": null,
   "metadata": {
    "collapsed": false
   },
   "outputs": [],
   "source": [
    "step_ite = 4\n",
    "step_bit = 3\n",
    "\n",
    "\n",
    "experiment_parameters = experiment_parameters_generator(bits = np.arange(63, -1, -step_bit),\n",
    "                                                       iterations = np.arange(0, min_iteration, step_ite))\n",
    "\n",
    "E = Experiment(experiment_parameters, gmres_algorithm)\n",
    "E.set_inputs(inputs)\n",
    "E.run(show_progress=True, n=int(math.ceil(float(min_iteration)/step_ite)) * int(math.ceil(64./step_bit)))"
   ]
  },
  {
   "cell_type": "code",
   "execution_count": null,
   "metadata": {
    "collapsed": true
   },
   "outputs": [],
   "source": [
    "def has_converged(data, epsilon = 1.e-12):\n",
    "    return len(filter (lambda d: d[0] < epsilon and d[1] < epsilon, zip(data[\"true_residuals\"], data[\"residuals\"]))) > 0\n",
    "\n",
    "def when_has_converged(data, epsilon = 1.e-12):\n",
    "    iteration_residual = filter (lambda d: d[1][0] < epsilon and d[1][1] < epsilon, \n",
    "                                 enumerate(zip(data[\"true_residuals\"], data[\"residuals\"])))\n",
    "    if iteration_residual:\n",
    "        return min(iteration_residual, key=lambda d:d[0])[0]\n",
    "    else:\n",
    "        return None"
   ]
  },
  {
   "cell_type": "code",
   "execution_count": null,
   "metadata": {
    "collapsed": false
   },
   "outputs": [],
   "source": [
    "\n",
    "    \n",
    "min_iteration = when_has_converged(F.get_data()[0], epsilon = epsilon)\n",
    "\n",
    "def scatter_bit_injection(data, min_iteration = None,\n",
    "                          convergence = None, delay = None, \n",
    "                          color = 'r', marker = 'o', area = 75, alpha = 0.5,\n",
    "                          xlabel = \"Flipped bit\", ylabel=\"Fault injection time (%)\",\n",
    "                          xlim = [-5, 64], ylim = [-5, 105],\n",
    "                          epsilon = 1.e-12):\n",
    "    if convergence != None:\n",
    "        if convergence:\n",
    "            data = filter(lambda d: has_converged(d, epsilon), data)\n",
    "            if delay != None :\n",
    "                if not min_iteration:\n",
    "                        print \"min_iteration should be set\"\n",
    "                        return\n",
    "                if delay:\n",
    "                    data = filter(lambda d: when_has_converged(d, epsilon) > min_iteration, data)\n",
    "                else:\n",
    "                    data = filter(lambda d: when_has_converged(d, epsilon) <= min_iteration, data)\n",
    "        else:\n",
    "            data = filter(lambda d: not has_converged(d, epsilon), data)\n",
    "    \n",
    "    X = map(lambda f: f[\"faults\"][0][\"bit\"], data)\n",
    "    if min_iteration:\n",
    "        Y = map(lambda f: (100*f[\"faults\"][0][\"timer\"]) / min_iteration, data)\n",
    "    else:\n",
    "        Y = map(lambda f: (f[\"faults\"][0][\"timer\"]), data)\n",
    "    C = []\n",
    "    \n",
    "    if hasattr(color, '__call__'):\n",
    "        C = map(color, data)\n",
    "    \n",
    "    S = []\n",
    "    if hasattr(area, '__call__'):\n",
    "        S = map(area, data)\n",
    "    if xlabel:\n",
    "        plt.xlabel(xlabel)\n",
    "    if ylabel:\n",
    "        plt.ylabel(ylabel)\n",
    "    if xlim:\n",
    "        plt.xlim(xlim)\n",
    "    if ylim:\n",
    "        plt.ylim(ylim)\n",
    "\n",
    "    return plt.scatter(X, Y, marker=marker, c=C, s=S, alpha = alpha)\n",
    "\n",
    "\n",
    "scatter_bit_injection(E.get_data(), \n",
    "                      color = lambda d: when_has_converged(d, epsilon) if has_converged(d, epsilon) else 216,\n",
    "                      area = lambda d: 75,\n",
    "                      ylabel = \"Fault injection time (iteration)\",\n",
    "                      ylim = [-5, min_iteration+5])\n",
    "plt.colorbar()\n",
    "plt.show()\n",
    "\n",
    "converged = scatter_bit_injection(E.get_data(), min_iteration, \n",
    "                      convergence = True,\n",
    "                      color = lambda d: \"red\" if not has_converged(d, epsilon) else \"blue\" if when_has_converged(d, epsilon) > min_iteration else \"green\",\n",
    "                      area = lambda d: 75)\n",
    "\n",
    "delayed = scatter_bit_injection(E.get_data(), min_iteration, \n",
    "                      convergence = True, delay = True,\n",
    "                      color = lambda d: \"red\" if not has_converged(d, epsilon) else \"blue\" if when_has_converged(d, epsilon) > min_iteration else \"green\",\n",
    "                      area = lambda d: 75)\n",
    "\n",
    "not_converged = scatter_bit_injection(E.get_data(), min_iteration, \n",
    "                      convergence = False,\n",
    "                      color = lambda d: \"red\" if not has_converged(d, epsilon) else \"blue\" if when_has_converged(d, epsilon) > min_iteration else \"green\",\n",
    "                      area = lambda d: 75)\n",
    "\n",
    "plt.legend((converged, delayed, not_converged),\n",
    "           ('Converged', 'Converged (delayed)', 'Not converged'))\n",
    "\n",
    "plt.show()\n",
    "\n",
    "\n",
    "plt.subplot(2, 1, 1)\n",
    "scatter_bit_injection(E.get_data(), min_iteration, \n",
    "                      convergence = False,\n",
    "                      color = lambda d: \"red\" if not has_converged(d, epsilon) else \"blue\" if when_has_converged(d, epsilon) > min_iteration else \"green\",\n",
    "                      area = lambda d: 75,\n",
    "                      xlabel = None, ylabel = \"not converged\")\n",
    "\n",
    "plt.subplot(2, 1, 2)\n",
    "scatter_bit_injection(E.get_data(), min_iteration, \n",
    "                      convergence = True,\n",
    "                      color = lambda d: \"red\" if not has_converged(d, epsilon) else \"blue\" if when_has_converged(d, epsilon) > min_iteration else \"green\",\n",
    "                      area = lambda d: 75,\n",
    "                      xlabel = None, ylabel = \"converged\")\n",
    "\n",
    "   \n",
    "#plt.xlabel(\"flipped bit\")\n",
    "#plt.ylabel(\"Fault injection time (%)\")       \n",
    "    \n",
    "#scatter_bit_injection(E.get_data(), min_iteration)\n",
    "\n",
    "#plt.legend((conv, conv_delay, no_conv),\n",
    "#           ('Convergence', 'Convergence (no delay)', 'No convergence'),\n",
    "#           scatterpoints=1,\n",
    "#           loc='upper right',\n",
    "#           ncol=1,\n",
    "#           fontsize=8)\n",
    "\n",
    "\n"
   ]
  },
  {
   "cell_type": "code",
   "execution_count": null,
   "metadata": {
    "collapsed": false
   },
   "outputs": [],
   "source": [
    "scatter_bit_injection(E.get_data(), \n",
    "                      color = lambda d: when_has_converged(d, epsilon) if has_converged(d, epsilon) else n,\n",
    "                      area = lambda d: 75,\n",
    "                      ylabel = \"Fault injection time (iteration)\",\n",
    "                      ylim = [-5, min_iteration+5])\n",
    "plt.colorbar()\n",
    "plt.show()\n",
    "\n",
    "converged = scatter_bit_injection(E.get_data(), min_iteration, \n",
    "                      convergence = True,\n",
    "                      color = lambda d: \"red\" if not has_converged(d, epsilon) else \"blue\" if when_has_converged(d, epsilon) > min_iteration else \"green\",\n",
    "                      area = lambda d: 75)\n",
    "\n",
    "delayed = scatter_bit_injection(E.get_data(), min_iteration, \n",
    "                      convergence = True, delay = True,\n",
    "                      color = lambda d: \"red\" if not has_converged(d, epsilon) else \"blue\" if when_has_converged(d, epsilon) > min_iteration else \"green\",\n",
    "                      area = lambda d: 75)\n",
    "\n",
    "not_converged = scatter_bit_injection(E.get_data(), min_iteration, \n",
    "                      convergence = False,\n",
    "                      color = lambda d: \"red\" if not has_converged(d, epsilon) else \"blue\" if when_has_converged(d, epsilon) > min_iteration else \"green\",\n",
    "                      area = lambda d: 75)\n",
    "\n",
    "plt.legend((converged, delayed, not_converged),\n",
    "           ('Converged', 'Converged (delayed)', 'Not converged'))\n",
    "\n",
    "plt.show()\n",
    "\n",
    "\n",
    "plt.subplot(2, 1, 1)\n",
    "scatter_bit_injection(E.get_data(), min_iteration, \n",
    "                      convergence = False,\n",
    "                      color = lambda d: \"red\" if not has_converged(d, epsilon) else \"blue\" if when_has_converged(d, epsilon) > min_iteration else \"green\",\n",
    "                      area = lambda d: 75,\n",
    "                      xlabel = None, ylabel = \"not converged\")\n",
    "\n",
    "plt.subplot(2, 1, 2)\n",
    "scatter_bit_injection(E.get_data(), min_iteration, \n",
    "                      convergence = True,\n",
    "                      color = lambda d: \"red\" if not has_converged(d, epsilon) else \"blue\" if when_has_converged(d, epsilon) > min_iteration else \"green\",\n",
    "                      area = lambda d: 75,\n",
    "                      xlabel = None, ylabel = \"not converged\")"
   ]
  },
  {
   "cell_type": "code",
   "execution_count": null,
   "metadata": {
    "collapsed": false
   },
   "outputs": [],
   "source": []
  },
  {
   "cell_type": "markdown",
   "metadata": {},
   "source": [
    "## Quantitative results"
   ]
  },
  {
   "cell_type": "code",
   "execution_count": null,
   "metadata": {
    "collapsed": true
   },
   "outputs": [],
   "source": [
    "def experiment_parameters_generator_random(vulnerable = True,\n",
    "                                    tol = 0,\n",
    "                                    m = 100,\n",
    "                                    fault_callback = lambda fault: (stdout.write(\" %s \" % str(fault)))\n",
    "                                   ):\n",
    "    import random\n",
    "    \n",
    "    parameters = Parameters()\n",
    "    parameters[\"vulnerable\"] = vulnerable\n",
    "    parameters[\"tol\"] = tol\n",
    "    fault_parameters = {}\n",
    "    fault_parameters[\"fault_callback\"] = fault_callback\n",
    "    fault_parameters[\"vulnerable\"] = vulnerable\n",
    "            \n",
    "    parameters[\"fault_parameters\"] = fault_parameters\n",
    "        \n",
    "    while (True):\n",
    "        fault_parameters[\"timer\"] = random.choice([i for i in xrange(m)])\n",
    "        yield parameters"
   ]
  },
  {
   "cell_type": "code",
   "execution_count": null,
   "metadata": {
    "collapsed": false
   },
   "outputs": [],
   "source": []
  },
  {
   "cell_type": "code",
   "execution_count": null,
   "metadata": {
    "collapsed": false
   },
   "outputs": [],
   "source": []
  },
  {
   "cell_type": "markdown",
   "metadata": {},
   "source": [
    "## Fault detection"
   ]
  },
  {
   "cell_type": "markdown",
   "metadata": {},
   "source": [
    "### Qualitative results"
   ]
  },
  {
   "cell_type": "code",
   "execution_count": null,
   "metadata": {
    "collapsed": true
   },
   "outputs": [],
   "source": [
    "input = load_mat(\"./gre_216a.mat\")\n",
    "A = input[\"A\"]\n",
    "inputs = [input]\n",
    "n = A.shape[0]"
   ]
  },
  {
   "cell_type": "code",
   "execution_count": null,
   "metadata": {
    "collapsed": false
   },
   "outputs": [],
   "source": [
    "experiment_parameters = experiment_parameters_generator(bits = [60, 50, 40], tol = epsilon)\n",
    "\n",
    "E_ = Experiment(experiment_parameters, gmres_algorithm)\n",
    "E_.set_inputs(inputs)\n",
    "E_.run(show_progress=True, n=3)"
   ]
  },
  {
   "cell_type": "code",
   "execution_count": null,
   "metadata": {
    "collapsed": false
   },
   "outputs": [],
   "source": [
    "for data in E_.get_data():\n",
    "    gmres_display.convergence_history(data, data_no_fault = F.get_data()[0], fault = True, delta = False, checksum=True, xlim = (0, 200), ylim = (1.e-16, 1), xytext = (5, 1.e-16), bbox_to_anchor=(0.6, 0.8))\n",
    "    plt.show()"
   ]
  },
  {
   "cell_type": "code",
   "execution_count": null,
   "metadata": {
    "collapsed": false
   },
   "outputs": [],
   "source": [
    "for data in E_.get_data():\n",
    "    gmres_display.convergence_history(data, data_no_fault = F.get_data()[0], c = 0.5, fault = True, delta = False, checksum=True, threshold = True, xlim = (0, 200), ylim = (1.e-16, 1), xytext = (5, 1.e-16), bbox_to_anchor=(0.6, 0.8))\n",
    "    plt.show()"
   ]
  },
  {
   "cell_type": "code",
   "execution_count": null,
   "metadata": {
    "collapsed": false
   },
   "outputs": [],
   "source": [
    "def criterion(data, c = 0.5, epsilon = 1.e-12):\n",
    "    m = when_has_converged(data, epsilon = (1-c)*epsilon)\n",
    "    if len(data[\"checksum\"]) >= m and len(data[\"threshold\"]) >= m:\n",
    "        return reduce(lambda d, e: d and (e[0] < c * e[1]), zip(data[\"checksum\"][:m], data[\"threshold\"][:m])) and data[\"checksum\"][0] < c * data[\"threshold\"][0]\n",
    "    else:\n",
    "        return True"
   ]
  },
  {
   "cell_type": "code",
   "execution_count": null,
   "metadata": {
    "collapsed": true
   },
   "outputs": [],
   "source": [
    "def false_detection(data, c = 0.5, epsilon = 1.e-12, key_checksum=\"checksum\", key_threshold=\"threshold\"):\n",
    "    m = when_has_converged(data, epsilon = (1-c)*epsilon)\n",
    "    for i, (checksum, threshold) in enumerate(zip(data[key_checksum][:m], data[key_threshold][:m])):\n",
    "        if checksum > c * threshold:\n",
    "            if data[\"faults\"][0][\"timer\"] != i:\n",
    "                return True\n",
    "    return False\n",
    "\n",
    "def no_impact_fault_detection(data, c = 0.5, epsilon = 1.e-12, key_checksum=\"checksum\", key_threshold=\"threshold\"):\n",
    "    m = when_has_converged(data, epsilon = (1-c)*epsilon)\n",
    "    f = data[\"faults\"][0][\"timer\"]\n",
    "    return (has_converged(data, epsilon = epsilon) and \n",
    "            data[key_checksum][f] > c * data[key_threshold][f])\n",
    "        \n",
    "def no_impact_fault_no_detection(data, c = 0.5, epsilon = 1.e-12, key_checksum=\"checksum\", key_threshold=\"threshold\"):\n",
    "    f = data[\"faults\"][0][\"timer\"]\n",
    "    return (has_converged(data, epsilon = epsilon) and\n",
    "            data[key_checksum][f] < c * data[key_threshold][f])\n",
    "        \n",
    "def fault_no_detection(data, c = 0.5, epsilon = 1.e-12, key_checksum=\"checksum\", key_threshold=\"threshold\"):\n",
    "    f = data[\"faults\"][0][\"timer\"]\n",
    "    return (not has_converged(data, epsilon = epsilon)  and\n",
    "            data[key_checksum][f] < c * data[key_threshold][f])\n",
    "        \n",
    "def fault_detection(data, c = 0.5, epsilon = 1.e-12, key_checksum=\"checksum\", key_threshold=\"threshold\"):\n",
    "    f = data[\"faults\"][0][\"timer\"]\n",
    "    return (not has_converged(data, epsilon = epsilon) and\n",
    "            data[key_checksum][f] > c * data[key_threshold][f])\n",
    "               "
   ]
  },
  {
   "cell_type": "code",
   "execution_count": null,
   "metadata": {
    "collapsed": false
   },
   "outputs": [],
   "source": [
    "print criterion(E_.get_data()[0])\n",
    "print criterion(E_.get_data()[1])\n",
    "print criterion(E_.get_data()[2])"
   ]
  },
  {
   "cell_type": "code",
   "execution_count": null,
   "metadata": {
    "collapsed": true
   },
   "outputs": [],
   "source": []
  },
  {
   "cell_type": "code",
   "execution_count": null,
   "metadata": {
    "collapsed": false
   },
   "outputs": [],
   "source": []
  },
  {
   "cell_type": "code",
   "execution_count": null,
   "metadata": {
    "collapsed": false
   },
   "outputs": [],
   "source": [
    "for data, result in zip(E.get_data(), E.get_results()):\n",
    "    for i in xrange(len(data[\"threshold\"])):\n",
    "        data[\"threshold\"][i] = (np.linalg.norm(result[0][\"b\"]) * epsilon) / abs(data[\"y\"][i][i][0])"
   ]
  },
  {
   "cell_type": "code",
   "execution_count": null,
   "metadata": {
    "collapsed": false
   },
   "outputs": [],
   "source": [
    "for data in E.get_data():\n",
    "    data[\"true_threshold\"] = []\n",
    "for data, result in zip(E.get_data(), E.get_results()):\n",
    "    for i in xrange(len(data[\"threshold\"])):\n",
    "        data[\"true_threshold\"] += [(np.linalg.norm(result[0][\"b\"]) * epsilon) / abs(data[\"y\"][-1][i][0])]"
   ]
  },
  {
   "cell_type": "code",
   "execution_count": null,
   "metadata": {
    "collapsed": false
   },
   "outputs": [],
   "source": [
    "for data in E.get_data():\n",
    "    data[\"true_checksum\"] = []\n",
    "for data, result in zip(E.get_data(), E.get_results()):\n",
    "    for i in xrange(len(data[\"checksum\"])):\n",
    "        data[\"true_checksum\"] += [0]\n",
    "    data[\"true_checksum\"][data[\"faults\"][0][\"timer\"]] = abs(data[\"faults\"][0][\"value_before\"]- data[\"faults\"][0][\"value_after\"])"
   ]
  },
  {
   "cell_type": "code",
   "execution_count": null,
   "metadata": {
    "collapsed": false
   },
   "outputs": [],
   "source": [
    "data = filter(lambda d: len(d[\"faults\"]) > 0, E.get_data())\n",
    "epsilon = 1.e-6\n",
    "\n",
    "for d in filter(lambda d: no_impact_fault_detection(d, epsilon = epsilon, c=0.5, key_threshold=\"true_threshold\", key_checksum=\"true_checksum\"), data)[0:10]:\n",
    "    gmres_display.convergence_history(d, data_no_fault = F.get_data()[0], c = 0.5, fault = True, delta = False, checksum=True, threshold = True, xlim = (0, int(1.5 * min_iteration)), ylim = (epsilon / 10, 1), xytext = (1, epsilon/10), bbox_to_anchor=(0.6, 0.8))\n",
    "    plt.show()"
   ]
  },
  {
   "cell_type": "code",
   "execution_count": null,
   "metadata": {
    "collapsed": false
   },
   "outputs": [],
   "source": [
    "\n",
    "X = [1.2**(-50+i) for i in xrange(51)]\n",
    "test_orange = []\n",
    "test_red = []\n",
    "test_green = []\n",
    "test_gray1 = []\n",
    "test_gray2 = []\n",
    "\n",
    "\n",
    "for x in X:\n",
    "    #test_red += [(100. * len(filter_data(data, {'converged':False, 'criterion':True}, c=x)))/len(data)]\n",
    "    #test_green += [(100. * len(filter_data(data, {'converged':False, 'criterion':False}, c=x)))/len(data)]\n",
    "    #test_gray1 += [(100. * len(filter_data(data, {'converged':True, 'criterion':True}, c=x)))/len(data)]\n",
    "    #test_gray2 += [(100. * len(filter_data(data, {'converged':True, 'criterion':False}, c=x)))/len(data)]\n",
    "\n",
    "    test_orange += [(100. * len(filter(lambda d: false_detection(d, epsilon = epsilon, c=x, key_threshold=\"true_threshold\", key_checksum=\"true_checksum\"), data)))/len(data)]\n",
    "    test_red += [(100. * len(filter(lambda d: fault_no_detection(d, epsilon = epsilon, c=x, key_threshold=\"true_threshold\", key_checksum=\"true_checksum\"), data)))/len(data)]\n",
    "    test_green += [(100. * len(filter(lambda d: fault_detection(d, epsilon = epsilon, c=x, key_threshold=\"true_threshold\", key_checksum=\"true_checksum\"), data)))/len(data)]\n",
    "    test_gray1 += [(100. * len(filter(lambda d: no_impact_fault_no_detection(d, epsilon = epsilon, c=x, key_threshold=\"true_threshold\", key_checksum=\"true_checksum\"), data)))/len(data)]\n",
    "    test_gray2 += [(100. * len(filter(lambda d: no_impact_fault_detection(d, epsilon = epsilon, c=x, key_threshold=\"true_threshold\", key_checksum=\"true_checksum\"), data)))/len(data)]\n",
    "    \n",
    "\n",
    "Y = np.row_stack((test_gray1, test_gray2, test_green, test_red))   \n",
    "Y = np.cumsum(Y, axis=0)  \n",
    "\n",
    "fig = plt.figure()\n",
    "ax = fig.add_subplot(111)\n",
    "\n",
    "ax.plot(X, test_orange, c=\"orange\", linestyle=\"--\")\n",
    "ax.fill_between(X, 0, Y[0,:], facecolor=\"lightgray\", alpha=.7, label=\"No impact fault ignored\")\n",
    "ax.fill_between(X, Y[0,:], Y[1,:], facecolor=\"darkgray\", alpha=.7, label=\"No impact fault detected\")\n",
    "ax.fill_between(X, Y[1,:], Y[2,:], facecolor=\"green\", alpha=.7, label=\"Critical fault detected\")\n",
    "ax.fill_between(X, Y[2,:], Y[3,:], facecolor=\"red\",alpha=.7, label=\"Critical fault ignored\")\n",
    "ax.set_xscale('log')\n",
    "ax.set_ylim([0, 100])\n",
    "ax.set_xlim([0.0001, 1])\n",
    "ax.set_xlabel(\"c\")\n",
    "ax.set_ylabel(\"%\")\n",
    "ax.set_title(\"Test result repartition\")\n",
    "\n",
    "p1 = plt.Rectangle((0, 0), 1, 1, fc=\"green\", alpha=.7)\n",
    "p2 = plt.Rectangle((0, 0), 1, 1, fc=\"lightgray\", alpha=.7)\n",
    "p3 = plt.Rectangle((0, 0), 1, 1, fc=\"darkgray\", alpha=.7)\n",
    "p4 = plt.Rectangle((0, 0), 1, 1, fc=\"red\", alpha=.7)\n",
    "plt.legend([p1, p2, p3, p4], [\"Critical fault detected\", \"No impact fault ignored\", \"No impact fault detected\", \"Critical fault ignored\"], loc=4)\n",
    "plt.plot([0.5, 0.5], [0, 100], c = \"red\", linestyle = \"--\")\n",
    "plt.show()"
   ]
  },
  {
   "cell_type": "code",
   "execution_count": null,
   "metadata": {
    "collapsed": false
   },
   "outputs": [],
   "source": [
    "c = 0.5"
   ]
  },
  {
   "cell_type": "code",
   "execution_count": null,
   "metadata": {
    "collapsed": false
   },
   "outputs": [],
   "source": [
    "def show_test_result (data, no_fault_data, c = 0.5, epsilon = 1.e-12, key_checksum=\"true_checksum\", key_threshold=\"true_threshold\"):\n",
    "\n",
    "    min_iteration = when_has_converged(no_fault_data, epsilon = epsilon)\n",
    "\n",
    "    \n",
    "    false_detection_plot = scatter_bit_injection(filter(lambda d: false_detection(d, c=c, epsilon=epsilon, key_checksum=\"true_checksum\", key_threshold=\"true_threshold\"), data), \n",
    "                                            min_iteration, \n",
    "                                            color = lambda d:\"orange\",\n",
    "                                            area = lambda d: 30,\n",
    "                                            alpha = 1)\n",
    "\n",
    "    fault_no_detection_plot = scatter_bit_injection(filter(lambda d: fault_no_detection(d, c=c, epsilon=epsilon, key_checksum=\"true_checksum\", key_threshold=\"true_threshold\"), data), \n",
    "                                            min_iteration, \n",
    "                                            color = lambda d:\"red\",\n",
    "                                            area = lambda d: 100)\n",
    "\n",
    "    fault_detection_plot = scatter_bit_injection(filter(lambda d: fault_detection(d, c=c, epsilon=epsilon, key_checksum=\"true_checksum\", key_threshold=\"true_threshold\"), data), \n",
    "                                            min_iteration, \n",
    "                                            color = lambda d:\"green\",\n",
    "                                            area = lambda d: 100)\n",
    "\n",
    "    no_impact_fault_no_detection_plot = scatter_bit_injection(filter(lambda d: no_impact_fault_no_detection(d, c=c, epsilon=epsilon, key_checksum=\"true_checksum\", key_threshold=\"true_threshold\"), data), \n",
    "                                            min_iteration, \n",
    "                                            color = lambda d:\"#CCCCCC\",\n",
    "                                            area = lambda d: 100)\n",
    "\n",
    "    no_impact_fault_detection_plot = scatter_bit_injection(filter(lambda d: no_impact_fault_detection(d, c=c, epsilon=epsilon, key_checksum=\"true_checksum\", key_threshold=\"true_threshold\"), data), \n",
    "                                            min_iteration, \n",
    "                                            color = lambda d:\"#222222\",\n",
    "                                            area = lambda d: 100)\n",
    "\n",
    "\n",
    "\n",
    "    \n",
    "\n",
    "\n",
    "    plt.legend((false_detection_plot, fault_no_detection_plot, fault_detection_plot, no_impact_fault_no_detection_plot, no_impact_fault_detection_plot),\n",
    "           ('False detection', 'Critical fault ignored', 'Critical fault detected', 'No impact fault ignored', 'no impact fault detected'))\n",
    "\n",
    "\n",
    "show_test_result(E.get_data(), F.get_data()[0], c=c, epsilon = epsilon)    \n",
    "plt.show()\n",
    "\n"
   ]
  },
  {
   "cell_type": "code",
   "execution_count": null,
   "metadata": {
    "collapsed": false
   },
   "outputs": [],
   "source": [
    "import os\n",
    "\n",
    "epsilon = 1.e-12\n",
    "c = 0.5\n",
    "\n",
    "for mat_file in os.listdir(os.getcwd()):\n",
    "    if mat_file.endswith(\".mat\"): \n",
    "        print mat_file\n",
    "        _inputs = [load_mat(mat_file)]\n",
    "        _F = Experiment(Parameters({\"tol\":epsilon}), gmres_algorithm)\n",
    "        _F.set_inputs(_inputs)\n",
    "        _F.run(n = 1)\n",
    "        if has_converged(F.get_data()[0], epsilon = epsilon):\n",
    "            _min_iteration = when_has_converged(_F.get_data()[0], epsilon = epsilon)\n",
    "            if _min_iteration:\n",
    "                _G = Experiment(experiment_parameters_generator_random(m=_min_iteration, tol = (1-c)*epsilon), gmres_algorithm)\n",
    "                _G.set_inputs(inputs)\n",
    "                _G.run(show_progress=True, n=100)\n",
    "                show_test_result(_G.get_data(), _F.get_data()[0], c = c, epsilon = epsilon)\n",
    "\n",
    "\n"
   ]
  },
  {
   "cell_type": "code",
   "execution_count": null,
   "metadata": {
    "collapsed": false
   },
   "outputs": [],
   "source": []
  }
 ],
 "metadata": {
  "kernelspec": {
   "display_name": "Python 2",
   "language": "python",
   "name": "python2"
  },
  "language_info": {
   "codemirror_mode": {
    "name": "ipython",
    "version": 2
   },
   "file_extension": ".py",
   "mimetype": "text/x-python",
   "name": "python",
   "nbconvert_exporter": "python",
   "pygments_lexer": "ipython2",
   "version": "2.7.12"
  }
 },
 "nbformat": 4,
 "nbformat_minor": 0
}
