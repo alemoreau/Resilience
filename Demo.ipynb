{
 "cells": [
  {
   "cell_type": "markdown",
   "metadata": {},
   "source": [
    "# Resilience and fault injection mini-framework demo"
   ]
  },
  {
   "cell_type": "code",
   "execution_count": 1,
   "metadata": {
    "collapsed": true
   },
   "outputs": [],
   "source": [
    "%matplotlib inline"
   ]
  },
  {
   "cell_type": "code",
   "execution_count": 2,
   "metadata": {
    "collapsed": true
   },
   "outputs": [],
   "source": [
    "# For plotting\n",
    "import matplotlib\n",
    "import matplotlib.pyplot as plt\n",
    "import matplotlib.animation as animation\n",
    "from matplotlib.colors import LogNorm\n",
    "from IPython.display import set_matplotlib_formats\n",
    "set_matplotlib_formats('png', 'pdf')\n",
    "\n",
    "# For parsing Matrix files\n",
    "import scipy.io\n",
    "\n",
    "import numpy as np"
   ]
  },
  {
   "cell_type": "markdown",
   "metadata": {},
   "source": [
    "## Experiment \n",
    "### Class to easily run the algorithm with different inputs / parameters, and to save the result / data recorded"
   ]
  },
  {
   "cell_type": "markdown",
   "metadata": {},
   "source": [
    "## Algorithm\n",
    "### Class to encapsulate the implementation"
   ]
  },
  {
   "cell_type": "markdown",
   "metadata": {},
   "source": [
    "## Fault\n",
    "### Class implementing the faulty operations"
   ]
  },
  {
   "cell_type": "markdown",
   "metadata": {},
   "source": [
    "## Parameters\n",
    "### Class extending simple python dictionnaries to represent parameters"
   ]
  },
  {
   "cell_type": "markdown",
   "metadata": {},
   "source": [
    "# Exemple"
   ]
  },
  {
   "cell_type": "markdown",
   "metadata": {},
   "source": [
    "## Import modules"
   ]
  },
  {
   "cell_type": "code",
   "execution_count": 3,
   "metadata": {
    "collapsed": false
   },
   "outputs": [],
   "source": [
    "from Experiment import *\n",
    "from Parameters import *\n",
    "from Fault import *\n",
    "from Algorithm import *"
   ]
  },
  {
   "cell_type": "markdown",
   "metadata": {},
   "source": [
    "## Define inputs"
   ]
  },
  {
   "cell_type": "code",
   "execution_count": 4,
   "metadata": {
    "collapsed": true
   },
   "outputs": [],
   "source": [
    "inputs = []"
   ]
  },
  {
   "cell_type": "markdown",
   "metadata": {},
   "source": [
    "#### Matrice HB/arc130 (https://www.cise.ufl.edu/research/sparse/matrices/HB/arc130.html)"
   ]
  },
  {
   "cell_type": "code",
   "execution_count": 5,
   "metadata": {
    "collapsed": false
   },
   "outputs": [
    {
     "name": "stdout",
     "output_type": "stream",
     "text": [
      "239734.79553\n",
      "3.95980213558e-06\n"
     ]
    },
    {
     "data": {
      "application/pdf": "[encoded data removed]",
      "image/png": "[encoded data removed]",
      "text/plain": [
       "<matplotlib.figure.Figure at 0x7f781e05fb90>"
      ]
     },
     "metadata": {},
     "output_type": "display_data"
    }
   ],
   "source": [
    "if True:\n",
    "    A = scipy.io.loadmat('./arc130.mat')['Problem'][0][0][1].toarray()\n",
    "    n = A.shape[0]\n",
    "    plt.matshow(A)\n",
    "    u, s, v = np.linalg.svd(A)\n",
    "    print s[0]\n",
    "    print s[-1]\n",
    "    x = np.ones((n, 1))\n",
    "    b = A.dot(x)\n",
    "    x = np.zeros((n, 1))"
   ]
  },
  {
   "cell_type": "markdown",
   "metadata": {},
   "source": [
    "#### Matrice gre_216a"
   ]
  },
  {
   "cell_type": "code",
   "execution_count": 6,
   "metadata": {
    "collapsed": false
   },
   "outputs": [
    {
     "name": "stdout",
     "output_type": "stream",
     "text": [
      "1.01116601557\n",
      "0.00981568462302\n"
     ]
    },
    {
     "data": {
      "application/pdf": "[encoded data removed]",
      "image/png": "[encoded data removed]",
      "text/plain": [
       "<matplotlib.figure.Figure at 0x7f781dfba050>"
      ]
     },
     "metadata": {},
     "output_type": "display_data"
    }
   ],
   "source": [
    "if True:\n",
    "    A = scipy.io.loadmat('./gre_216a.mat')['Problem'][0][0][1].toarray()\n",
    "    n = A.shape[0]\n",
    "    plt.matshow(A)\n",
    "    u, s, v = np.linalg.svd(A)\n",
    "    print s[0]\n",
    "    print s[-1]\n",
    "    x = np.ones((n, 1))\n",
    "    b = A.dot(x)\n",
    "    x = np.zeros((n, 1))\n",
    "   "
   ]
  },
  {
   "cell_type": "code",
   "execution_count": 7,
   "metadata": {
    "collapsed": true
   },
   "outputs": [],
   "source": [
    "inputs += [{\"A\": A, \"b\": b, \"x0\": x}]"
   ]
  },
  {
   "cell_type": "markdown",
   "metadata": {},
   "source": [
    "## Define the algorithm"
   ]
  },
  {
   "cell_type": "code",
   "execution_count": 8,
   "metadata": {
    "collapsed": false
   },
   "outputs": [],
   "source": [
    "import gmres"
   ]
  },
  {
   "cell_type": "markdown",
   "metadata": {},
   "source": [
    "#### Algorithm parameters"
   ]
  },
  {
   "cell_type": "code",
   "execution_count": 9,
   "metadata": {
    "collapsed": false
   },
   "outputs": [],
   "source": [
    "# parameters that won't change during the whole experiment\n",
    "algorithm_parameters = Parameters()\n",
    "algorithm_parameters[\"m\"] = n\n",
    "algorithm_parameters[\"tol\"] = 1.e-12\n",
    "algorithm_parameters[\"iterMax\"] = n\n",
    "algorithm_parameters[\"orthMethod\"] = gmres.modified_gramschmidt\n",
    "algorithm_parameters[\"dtype\"] = 'd'\n",
    "algorithm_parameters[\"vulnerable\"] = False\n",
    "algorithm_parameters[\"save_data\"] = {\"iteration_count\",\n",
    "                                     \"residual\",\n",
    "                                     \"residuals\",\n",
    "                                     \"true_residual\",\n",
    "                                     \"true_residuals\",\n",
    "                                     #\"orthogonality\",\n",
    "                                     #\"arnoldi\",\n",
    "                                     \"faults\",\n",
    "                                     \"H\",\n",
    "                                     \"V\"}"
   ]
  },
  {
   "cell_type": "markdown",
   "metadata": {},
   "source": [
    "#### Implementation (gmres)"
   ]
  },
  {
   "cell_type": "code",
   "execution_count": 10,
   "metadata": {
    "collapsed": true
   },
   "outputs": [],
   "source": [
    "def implementation(self, input, algorithm_parameters, experiment_parameters):\n",
    "    gmres.pipelined_p1(self, input, algorithm_parameters, experiment_parameters)"
   ]
  },
  {
   "cell_type": "code",
   "execution_count": 11,
   "metadata": {
    "collapsed": false
   },
   "outputs": [],
   "source": [
    "gmres_algorithm = Algorithm(algorithm_parameters, implementation)"
   ]
  },
  {
   "cell_type": "markdown",
   "metadata": {},
   "source": [
    "## Run the experiment"
   ]
  },
  {
   "cell_type": "markdown",
   "metadata": {},
   "source": [
    "### Define the experiment parameters"
   ]
  },
  {
   "cell_type": "code",
   "execution_count": 12,
   "metadata": {
    "collapsed": false
   },
   "outputs": [],
   "source": [
    "# Parameters that may change during the experiment\n",
    "experiment_parameters = Parameters()\n",
    "# it can be a generator yielding a parameters object\n",
    "from sys import stdout\n",
    "\n",
    "#for example, at each execution, the iteration when the fault occurs is increased\n",
    "def experiment_parameters_generator():\n",
    "    parameters = Parameters()\n",
    "    fault_parameters = {}\n",
    "    parameters[\"fault_parameters\"] = fault_parameters\n",
    "    fault_parameters[\"fault_callback\"] = lambda fault: (stdout.write(\" %s \" % str(fault)))\n",
    "    i = 0\n",
    "    while True:\n",
    "        parameters[\"fault_parameters\"][\"timer\"]= i\n",
    "        i += 1\n",
    "        yield parameters\n",
    "\n",
    "experiment_parameters = experiment_parameters_generator()\n",
    "#experiment_parameters[\"fault_parameters\"] = fault_parameters"
   ]
  },
  {
   "cell_type": "markdown",
   "metadata": {},
   "source": [
    "### Setup the experiment (algorithm, parameters and inputs)"
   ]
  },
  {
   "cell_type": "code",
   "execution_count": 13,
   "metadata": {
    "collapsed": false
   },
   "outputs": [],
   "source": [
    "E = Experiment(experiment_parameters, gmres_algorithm)\n",
    "E.set_inputs(inputs)\n"
   ]
  },
  {
   "cell_type": "markdown",
   "metadata": {},
   "source": [
    "### Run the experiment"
   ]
  },
  {
   "cell_type": "code",
   "execution_count": 14,
   "metadata": {
    "collapsed": false
   },
   "outputs": [
    {
     "name": "stdout",
     "output_type": "stream",
     "text": [
      "\r",
      "Complete ! \n"
     ]
    }
   ],
   "source": [
    "E.run(show_progress=True, n=1)"
   ]
  },
  {
   "cell_type": "markdown",
   "metadata": {},
   "source": [
    "## Display the experiment result"
   ]
  },
  {
   "cell_type": "code",
   "execution_count": 15,
   "metadata": {
    "collapsed": false
   },
   "outputs": [
    {
     "data": {
      "text/plain": [
       "({'A': array([[ 0.75,  0.  ,  0.  , ...,  0.  ,  0.  ,  0.  ],\n",
       "         [ 0.25,  0.5 ,  0.  , ...,  0.  ,  0.  ,  0.  ],\n",
       "         [ 0.  ,  0.25,  0.5 , ...,  0.  ,  0.  ,  0.  ],\n",
       "         ..., \n",
       "         [ 0.  ,  0.  ,  0.  , ...,  0.5 ,  0.  ,  0.  ],\n",
       "         [ 0.  ,  0.  ,  0.  , ...,  0.25,  0.5 ,  0.  ],\n",
       "         [ 0.  ,  0.  ,  0.  , ...,  0.  ,  0.25,  0.75]]),\n",
       "  'b': array([[ 1.  ],\n",
       "         [ 1.  ],\n",
       "         [ 1.  ],\n",
       "         [ 1.  ],\n",
       "         [ 1.  ],\n",
       "         [ 1.  ],\n",
       "         [ 1.  ],\n",
       "         [ 1.  ],\n",
       "         [ 1.  ],\n",
       "         [ 1.  ],\n",
       "         [ 1.  ],\n",
       "         [ 1.  ],\n",
       "         [ 1.  ],\n",
       "         [ 1.  ],\n",
       "         [ 1.  ],\n",
       "         [ 1.25],\n",
       "         [ 1.  ],\n",
       "         [ 1.  ],\n",
       "         [ 1.  ],\n",
       "         [ 1.  ],\n",
       "         [ 1.  ],\n",
       "         [ 1.  ],\n",
       "         [ 1.  ],\n",
       "         [ 1.  ],\n",
       "         [ 1.  ],\n",
       "         [ 1.  ],\n",
       "         [ 1.  ],\n",
       "         [ 1.  ],\n",
       "         [ 1.  ],\n",
       "         [ 1.  ],\n",
       "         [ 1.  ],\n",
       "         [ 1.  ],\n",
       "         [ 1.  ],\n",
       "         [ 1.25],\n",
       "         [ 1.  ],\n",
       "         [ 1.  ],\n",
       "         [ 1.  ],\n",
       "         [ 1.  ],\n",
       "         [ 1.  ],\n",
       "         [ 1.  ],\n",
       "         [ 1.  ],\n",
       "         [ 1.  ],\n",
       "         [ 1.  ],\n",
       "         [ 1.  ],\n",
       "         [ 1.  ],\n",
       "         [ 1.  ],\n",
       "         [ 1.  ],\n",
       "         [ 1.  ],\n",
       "         [ 1.  ],\n",
       "         [ 1.  ],\n",
       "         [ 1.  ],\n",
       "         [ 1.  ],\n",
       "         [ 1.  ],\n",
       "         [ 1.  ],\n",
       "         [ 1.  ],\n",
       "         [ 1.  ],\n",
       "         [ 1.  ],\n",
       "         [ 1.  ],\n",
       "         [ 1.  ],\n",
       "         [ 1.  ],\n",
       "         [ 1.25],\n",
       "         [ 1.  ],\n",
       "         [ 1.  ],\n",
       "         [ 1.  ],\n",
       "         [ 1.25],\n",
       "         [ 1.  ],\n",
       "         [ 1.  ],\n",
       "         [ 1.  ],\n",
       "         [ 1.  ],\n",
       "         [ 1.  ],\n",
       "         [ 1.  ],\n",
       "         [ 1.  ],\n",
       "         [ 1.  ],\n",
       "         [ 1.  ],\n",
       "         [ 1.  ],\n",
       "         [ 1.  ],\n",
       "         [ 1.25],\n",
       "         [ 1.  ],\n",
       "         [ 1.  ],\n",
       "         [ 1.  ],\n",
       "         [ 1.  ],\n",
       "         [ 1.  ],\n",
       "         [ 1.  ],\n",
       "         [ 1.  ],\n",
       "         [ 1.  ],\n",
       "         [ 0.75],\n",
       "         [ 1.  ],\n",
       "         [ 1.  ],\n",
       "         [ 1.25],\n",
       "         [ 1.  ],\n",
       "         [ 1.  ],\n",
       "         [ 1.  ],\n",
       "         [ 1.  ],\n",
       "         [ 1.  ],\n",
       "         [ 1.25],\n",
       "         [ 1.  ],\n",
       "         [ 1.  ],\n",
       "         [ 1.  ],\n",
       "         [ 1.  ],\n",
       "         [ 1.  ],\n",
       "         [ 1.  ],\n",
       "         [ 1.25],\n",
       "         [ 0.75],\n",
       "         [ 1.  ],\n",
       "         [ 1.  ],\n",
       "         [ 1.  ],\n",
       "         [ 1.  ],\n",
       "         [ 1.  ],\n",
       "         [ 1.  ],\n",
       "         [ 1.  ],\n",
       "         [ 1.  ],\n",
       "         [ 1.  ],\n",
       "         [ 1.  ],\n",
       "         [ 1.25],\n",
       "         [ 0.75],\n",
       "         [ 1.  ],\n",
       "         [ 1.  ],\n",
       "         [ 1.  ],\n",
       "         [ 1.  ],\n",
       "         [ 1.  ],\n",
       "         [ 1.  ],\n",
       "         [ 0.75],\n",
       "         [ 1.  ],\n",
       "         [ 1.  ],\n",
       "         [ 1.  ],\n",
       "         [ 1.  ],\n",
       "         [ 1.  ],\n",
       "         [ 0.75],\n",
       "         [ 1.  ],\n",
       "         [ 1.  ],\n",
       "         [ 1.25],\n",
       "         [ 1.  ],\n",
       "         [ 1.  ],\n",
       "         [ 1.  ],\n",
       "         [ 1.  ],\n",
       "         [ 1.  ],\n",
       "         [ 1.  ],\n",
       "         [ 1.  ],\n",
       "         [ 1.  ],\n",
       "         [ 0.75],\n",
       "         [ 1.  ],\n",
       "         [ 1.  ],\n",
       "         [ 1.  ],\n",
       "         [ 1.  ],\n",
       "         [ 1.  ],\n",
       "         [ 1.  ],\n",
       "         [ 1.  ],\n",
       "         [ 1.  ],\n",
       "         [ 1.  ],\n",
       "         [ 1.  ],\n",
       "         [ 1.  ],\n",
       "         [ 0.75],\n",
       "         [ 1.  ],\n",
       "         [ 1.  ],\n",
       "         [ 1.  ],\n",
       "         [ 0.75],\n",
       "         [ 1.  ],\n",
       "         [ 1.  ],\n",
       "         [ 1.  ],\n",
       "         [ 1.  ],\n",
       "         [ 1.  ],\n",
       "         [ 1.  ],\n",
       "         [ 1.  ],\n",
       "         [ 1.  ],\n",
       "         [ 1.  ],\n",
       "         [ 1.  ],\n",
       "         [ 1.  ],\n",
       "         [ 1.  ],\n",
       "         [ 1.  ],\n",
       "         [ 1.  ],\n",
       "         [ 1.  ],\n",
       "         [ 1.  ],\n",
       "         [ 1.  ],\n",
       "         [ 1.  ],\n",
       "         [ 1.  ],\n",
       "         [ 1.  ],\n",
       "         [ 1.  ],\n",
       "         [ 1.  ],\n",
       "         [ 1.  ],\n",
       "         [ 1.  ],\n",
       "         [ 1.  ],\n",
       "         [ 1.  ],\n",
       "         [ 0.75],\n",
       "         [ 1.  ],\n",
       "         [ 1.  ],\n",
       "         [ 1.  ],\n",
       "         [ 1.  ],\n",
       "         [ 1.  ],\n",
       "         [ 1.  ],\n",
       "         [ 1.  ],\n",
       "         [ 1.  ],\n",
       "         [ 1.  ],\n",
       "         [ 1.  ],\n",
       "         [ 1.  ],\n",
       "         [ 1.  ],\n",
       "         [ 1.  ],\n",
       "         [ 1.  ],\n",
       "         [ 1.  ],\n",
       "         [ 1.  ],\n",
       "         [ 1.  ],\n",
       "         [ 0.75],\n",
       "         [ 1.  ],\n",
       "         [ 1.  ],\n",
       "         [ 1.  ],\n",
       "         [ 1.  ],\n",
       "         [ 1.  ],\n",
       "         [ 1.  ],\n",
       "         [ 1.  ],\n",
       "         [ 1.  ],\n",
       "         [ 1.  ],\n",
       "         [ 1.  ],\n",
       "         [ 1.  ],\n",
       "         [ 1.  ],\n",
       "         [ 1.  ],\n",
       "         [ 1.  ],\n",
       "         [ 1.  ]]),\n",
       "  'x0': array([[ 0.],\n",
       "         [ 0.],\n",
       "         [ 0.],\n",
       "         [ 0.],\n",
       "         [ 0.],\n",
       "         [ 0.],\n",
       "         [ 0.],\n",
       "         [ 0.],\n",
       "         [ 0.],\n",
       "         [ 0.],\n",
       "         [ 0.],\n",
       "         [ 0.],\n",
       "         [ 0.],\n",
       "         [ 0.],\n",
       "         [ 0.],\n",
       "         [ 0.],\n",
       "         [ 0.],\n",
       "         [ 0.],\n",
       "         [ 0.],\n",
       "         [ 0.],\n",
       "         [ 0.],\n",
       "         [ 0.],\n",
       "         [ 0.],\n",
       "         [ 0.],\n",
       "         [ 0.],\n",
       "         [ 0.],\n",
       "         [ 0.],\n",
       "         [ 0.],\n",
       "         [ 0.],\n",
       "         [ 0.],\n",
       "         [ 0.],\n",
       "         [ 0.],\n",
       "         [ 0.],\n",
       "         [ 0.],\n",
       "         [ 0.],\n",
       "         [ 0.],\n",
       "         [ 0.],\n",
       "         [ 0.],\n",
       "         [ 0.],\n",
       "         [ 0.],\n",
       "         [ 0.],\n",
       "         [ 0.],\n",
       "         [ 0.],\n",
       "         [ 0.],\n",
       "         [ 0.],\n",
       "         [ 0.],\n",
       "         [ 0.],\n",
       "         [ 0.],\n",
       "         [ 0.],\n",
       "         [ 0.],\n",
       "         [ 0.],\n",
       "         [ 0.],\n",
       "         [ 0.],\n",
       "         [ 0.],\n",
       "         [ 0.],\n",
       "         [ 0.],\n",
       "         [ 0.],\n",
       "         [ 0.],\n",
       "         [ 0.],\n",
       "         [ 0.],\n",
       "         [ 0.],\n",
       "         [ 0.],\n",
       "         [ 0.],\n",
       "         [ 0.],\n",
       "         [ 0.],\n",
       "         [ 0.],\n",
       "         [ 0.],\n",
       "         [ 0.],\n",
       "         [ 0.],\n",
       "         [ 0.],\n",
       "         [ 0.],\n",
       "         [ 0.],\n",
       "         [ 0.],\n",
       "         [ 0.],\n",
       "         [ 0.],\n",
       "         [ 0.],\n",
       "         [ 0.],\n",
       "         [ 0.],\n",
       "         [ 0.],\n",
       "         [ 0.],\n",
       "         [ 0.],\n",
       "         [ 0.],\n",
       "         [ 0.],\n",
       "         [ 0.],\n",
       "         [ 0.],\n",
       "         [ 0.],\n",
       "         [ 0.],\n",
       "         [ 0.],\n",
       "         [ 0.],\n",
       "         [ 0.],\n",
       "         [ 0.],\n",
       "         [ 0.],\n",
       "         [ 0.],\n",
       "         [ 0.],\n",
       "         [ 0.],\n",
       "         [ 0.],\n",
       "         [ 0.],\n",
       "         [ 0.],\n",
       "         [ 0.],\n",
       "         [ 0.],\n",
       "         [ 0.],\n",
       "         [ 0.],\n",
       "         [ 0.],\n",
       "         [ 0.],\n",
       "         [ 0.],\n",
       "         [ 0.],\n",
       "         [ 0.],\n",
       "         [ 0.],\n",
       "         [ 0.],\n",
       "         [ 0.],\n",
       "         [ 0.],\n",
       "         [ 0.],\n",
       "         [ 0.],\n",
       "         [ 0.],\n",
       "         [ 0.],\n",
       "         [ 0.],\n",
       "         [ 0.],\n",
       "         [ 0.],\n",
       "         [ 0.],\n",
       "         [ 0.],\n",
       "         [ 0.],\n",
       "         [ 0.],\n",
       "         [ 0.],\n",
       "         [ 0.],\n",
       "         [ 0.],\n",
       "         [ 0.],\n",
       "         [ 0.],\n",
       "         [ 0.],\n",
       "         [ 0.],\n",
       "         [ 0.],\n",
       "         [ 0.],\n",
       "         [ 0.],\n",
       "         [ 0.],\n",
       "         [ 0.],\n",
       "         [ 0.],\n",
       "         [ 0.],\n",
       "         [ 0.],\n",
       "         [ 0.],\n",
       "         [ 0.],\n",
       "         [ 0.],\n",
       "         [ 0.],\n",
       "         [ 0.],\n",
       "         [ 0.],\n",
       "         [ 0.],\n",
       "         [ 0.],\n",
       "         [ 0.],\n",
       "         [ 0.],\n",
       "         [ 0.],\n",
       "         [ 0.],\n",
       "         [ 0.],\n",
       "         [ 0.],\n",
       "         [ 0.],\n",
       "         [ 0.],\n",
       "         [ 0.],\n",
       "         [ 0.],\n",
       "         [ 0.],\n",
       "         [ 0.],\n",
       "         [ 0.],\n",
       "         [ 0.],\n",
       "         [ 0.],\n",
       "         [ 0.],\n",
       "         [ 0.],\n",
       "         [ 0.],\n",
       "         [ 0.],\n",
       "         [ 0.],\n",
       "         [ 0.],\n",
       "         [ 0.],\n",
       "         [ 0.],\n",
       "         [ 0.],\n",
       "         [ 0.],\n",
       "         [ 0.],\n",
       "         [ 0.],\n",
       "         [ 0.],\n",
       "         [ 0.],\n",
       "         [ 0.],\n",
       "         [ 0.],\n",
       "         [ 0.],\n",
       "         [ 0.],\n",
       "         [ 0.],\n",
       "         [ 0.],\n",
       "         [ 0.],\n",
       "         [ 0.],\n",
       "         [ 0.],\n",
       "         [ 0.],\n",
       "         [ 0.],\n",
       "         [ 0.],\n",
       "         [ 0.],\n",
       "         [ 0.],\n",
       "         [ 0.],\n",
       "         [ 0.],\n",
       "         [ 0.],\n",
       "         [ 0.],\n",
       "         [ 0.],\n",
       "         [ 0.],\n",
       "         [ 0.],\n",
       "         [ 0.],\n",
       "         [ 0.],\n",
       "         [ 0.],\n",
       "         [ 0.],\n",
       "         [ 0.],\n",
       "         [ 0.],\n",
       "         [ 0.],\n",
       "         [ 0.],\n",
       "         [ 0.],\n",
       "         [ 0.],\n",
       "         [ 0.],\n",
       "         [ 0.],\n",
       "         [ 0.],\n",
       "         [ 0.],\n",
       "         [ 0.],\n",
       "         [ 0.],\n",
       "         [ 0.],\n",
       "         [ 0.],\n",
       "         [ 0.],\n",
       "         [ 0.],\n",
       "         [ 0.]])},\n",
       " None)"
      ]
     },
     "execution_count": 15,
     "metadata": {},
     "output_type": "execute_result"
    }
   ],
   "source": [
    "E.get_results()[0]"
   ]
  },
  {
   "cell_type": "markdown",
   "metadata": {},
   "source": [
    "## Display the experiment data"
   ]
  },
  {
   "cell_type": "code",
   "execution_count": 16,
   "metadata": {
    "collapsed": false
   },
   "outputs": [
    {
     "data": {
      "text/plain": [
       "{'H': array([[ 1.00359609, -0.02545873,  0.02045184, ...,  0.        ,\n",
       "          0.        ,  0.        ],\n",
       "        [ 0.05418358,  0.72554107,  0.00673946, ...,  0.        ,\n",
       "          0.        ,  0.        ],\n",
       "        [ 0.        ,  0.2919455 ,  0.48436873, ...,  0.        ,\n",
       "          0.        ,  0.        ],\n",
       "        ..., \n",
       "        [ 0.        ,  0.        ,  0.        , ...,  0.        ,\n",
       "          0.        ,  0.        ],\n",
       "        [ 0.        ,  0.        ,  0.        , ...,  0.        ,\n",
       "          0.        ,  0.        ],\n",
       "        [ 0.        ,  0.        ,  0.        , ...,  0.        ,\n",
       "          0.        ,  0.        ]]),\n",
       " 'V': array([[ 0.06784535, -0.0045028 ,  0.00168327, ...,  0.        ,\n",
       "          0.        ,  0.        ],\n",
       "        [ 0.06784535, -0.0045028 ,  0.00168327, ...,  0.        ,\n",
       "          0.        ,  0.        ],\n",
       "        [ 0.06784535, -0.0045028 ,  0.00168327, ...,  0.        ,\n",
       "          0.        ,  0.        ],\n",
       "        ..., \n",
       "        [ 0.06784535, -0.0045028 ,  0.00168327, ...,  0.        ,\n",
       "          0.        ,  0.        ],\n",
       "        [ 0.06784535, -0.0045028 ,  0.00168327, ...,  0.        ,\n",
       "          0.        ,  0.        ],\n",
       "        [ 0.06784535, -0.0045028 ,  0.00168327, ...,  0.        ,\n",
       "          0.        ,  0.        ]]),\n",
       " 'faults': [],\n",
       " 'iteration_count': 153,\n",
       " 'residual': 5.8046074292887406e-13,\n",
       " 'residuals': [1.0000000000000004,\n",
       "  0.020117143521499091,\n",
       "  0.014112380677911237,\n",
       "  0.011470792229397399,\n",
       "  0.0088278703142582893,\n",
       "  0.0071859138072727629,\n",
       "  0.0065495899765325811,\n",
       "  0.0065461932388087537,\n",
       "  0.0060226386979234927,\n",
       "  0.0056605806986124718,\n",
       "  0.0054382966159908508,\n",
       "  0.0054357438366385265,\n",
       "  0.0050915013264906913,\n",
       "  0.0047490981711036219,\n",
       "  0.0045992002467466313,\n",
       "  0.004518658965096338,\n",
       "  0.0039507980925636756,\n",
       "  0.0037206402055769815,\n",
       "  0.0037159351734719426,\n",
       "  0.003671778240857522,\n",
       "  0.0034473221205638038,\n",
       "  0.0034191946218889856,\n",
       "  0.0033920261934630084,\n",
       "  0.003327613952242024,\n",
       "  0.0031483415694564866,\n",
       "  0.0031415341641121666,\n",
       "  0.0030685723341537024,\n",
       "  0.0030610604620977941,\n",
       "  0.0030562160644569919,\n",
       "  0.0030300211998649977,\n",
       "  0.0030265187528149707,\n",
       "  0.0030131869032891194,\n",
       "  0.0029975470109813687,\n",
       "  0.0029790048803850478,\n",
       "  0.0029724964930265855,\n",
       "  0.0029566787653515919,\n",
       "  0.0029145747951264795,\n",
       "  0.0029018621012009871,\n",
       "  0.0027253723786981169,\n",
       "  0.0023339951374056699,\n",
       "  0.0020320086075928155,\n",
       "  0.0019802175749493224,\n",
       "  0.001918431758805478,\n",
       "  0.0018571734866931104,\n",
       "  0.001837016636246087,\n",
       "  0.0018330656292576866,\n",
       "  0.0017993559941335757,\n",
       "  0.0017467764795510694,\n",
       "  0.0017287267709932802,\n",
       "  0.0017284888516698952,\n",
       "  0.0017102730541213049,\n",
       "  0.0016999727344294347,\n",
       "  0.0016998643230814214,\n",
       "  0.0016948623776546659,\n",
       "  0.0016721476433740688,\n",
       "  0.0016186561320333517,\n",
       "  0.0015288215555052339,\n",
       "  0.001453039554194138,\n",
       "  0.001453003463363817,\n",
       "  0.0014490119251441985,\n",
       "  0.0014404571843324601,\n",
       "  0.0013938902550340788,\n",
       "  0.0013810914782063446,\n",
       "  0.0013784391053538422,\n",
       "  0.0013570947857879298,\n",
       "  0.0013375527852038417,\n",
       "  0.0013183742451231425,\n",
       "  0.0013135675940526474,\n",
       "  0.0013092993582206147,\n",
       "  0.0012885124575984664,\n",
       "  0.0011635680091302801,\n",
       "  0.0010587334736089681,\n",
       "  0.00081456620989951288,\n",
       "  0.00063235088305539221,\n",
       "  0.00051203112363947738,\n",
       "  0.00049524144275490956,\n",
       "  0.00049507914093105388,\n",
       "  0.00049335309013013586,\n",
       "  0.0004839492004301973,\n",
       "  0.00047641227550235151,\n",
       "  0.00046233250975529215,\n",
       "  0.00045945473685053944,\n",
       "  0.00040464769632067175,\n",
       "  0.00035659735105952927,\n",
       "  0.00035266382409672724,\n",
       "  0.0003434471185501972,\n",
       "  0.00031228993451686319,\n",
       "  0.00023356351746905215,\n",
       "  0.00013697951387740178,\n",
       "  0.00011940736658471971,\n",
       "  0.00010805266855921838,\n",
       "  0.00010508827684855364,\n",
       "  7.7834590928837723e-05,\n",
       "  5.0350489217206083e-05,\n",
       "  3.0109908271997712e-05,\n",
       "  1.9856669819092005e-05,\n",
       "  1.6872676778802715e-05,\n",
       "  1.4940341515189903e-05,\n",
       "  1.3688090342062876e-05,\n",
       "  1.2936004122705781e-05,\n",
       "  1.2564439532675276e-05,\n",
       "  1.2195312405808238e-05,\n",
       "  9.4608562014715341e-06,\n",
       "  6.6393928235862487e-06,\n",
       "  5.1771010220431272e-06,\n",
       "  5.1012515697464822e-06,\n",
       "  5.1012491326169495e-06,\n",
       "  5.0557919690155743e-06,\n",
       "  4.6354979550501463e-06,\n",
       "  4.5439438351526291e-06,\n",
       "  3.8149002355572933e-06,\n",
       "  3.6232850462569689e-06,\n",
       "  3.3421248779937429e-06,\n",
       "  3.3347981125186003e-06,\n",
       "  2.9746967331374167e-06,\n",
       "  2.3517549799223955e-06,\n",
       "  2.181234644753852e-06,\n",
       "  2.0810310064483181e-06,\n",
       "  2.0809691166819194e-06,\n",
       "  1.5820260082179928e-06,\n",
       "  6.9153157910047638e-07,\n",
       "  1.8897642024489252e-07,\n",
       "  1.0717393826445323e-07,\n",
       "  1.0418164993025545e-07,\n",
       "  1.0285950173088069e-07,\n",
       "  1.0255423075699532e-07,\n",
       "  7.3695617695732138e-08,\n",
       "  7.1631793217444401e-08,\n",
       "  5.3686773396210898e-08,\n",
       "  3.1872363670102577e-08,\n",
       "  2.7214650978263805e-08,\n",
       "  2.6700721536665394e-08,\n",
       "  1.3795475372450015e-08,\n",
       "  9.0750958472006042e-09,\n",
       "  4.792096762596113e-09,\n",
       "  1.0668439930172267e-09,\n",
       "  4.4429759792542763e-10,\n",
       "  1.8396160847643026e-10,\n",
       "  1.3004235267655545e-10,\n",
       "  1.2998331166549235e-10,\n",
       "  1.1234154452559583e-10,\n",
       "  1.118979072073811e-10,\n",
       "  7.0013875296333351e-11,\n",
       "  3.5667349407916008e-11,\n",
       "  2.9588409359260719e-11,\n",
       "  5.5681693860684696e-12,\n",
       "  4.5942369828112009e-12,\n",
       "  3.1196466453428932e-12,\n",
       "  2.220057835595895e-12,\n",
       "  1.9799074898653233e-12,\n",
       "  1.9523680741364446e-12,\n",
       "  5.8046074292887406e-13],\n",
       " 'true_residual': 5.8045234590594171e-13,\n",
       " 'true_residuals': [1.0000000000000004,\n",
       "  0.020117143521498997,\n",
       "  0.014112380677911185,\n",
       "  0.011470792229397337,\n",
       "  0.0088278703142582633,\n",
       "  0.0071859138072727256,\n",
       "  0.0065495899765325603,\n",
       "  0.0065461932388087146,\n",
       "  0.0060226386979234702,\n",
       "  0.0056605806986124458,\n",
       "  0.00543829661599083,\n",
       "  0.0054357438366384875,\n",
       "  0.0050915013264906609,\n",
       "  0.0047490981711035985,\n",
       "  0.0045992002467465957,\n",
       "  0.0045186589650963293,\n",
       "  0.0039507980925636496,\n",
       "  0.0037206402055769451,\n",
       "  0.0037159351734719209,\n",
       "  0.0036717782408574925,\n",
       "  0.0034473221205637739,\n",
       "  0.0034191946218889717,\n",
       "  0.0033920261934630006,\n",
       "  0.0033276139522419972,\n",
       "  0.0031483415694564623,\n",
       "  0.0031415341641121467,\n",
       "  0.0030685723341536946,\n",
       "  0.0030610604620977767,\n",
       "  0.003056216064456975,\n",
       "  0.0030300211998649873,\n",
       "  0.0030265187528149599,\n",
       "  0.0030131869032891129,\n",
       "  0.0029975470109813514,\n",
       "  0.0029790048803850317,\n",
       "  0.0029724964930265669,\n",
       "  0.0029566787653515728,\n",
       "  0.002914574795126496,\n",
       "  0.0029018621012009771,\n",
       "  0.0027253723786981226,\n",
       "  0.0023339951374056374,\n",
       "  0.0020320086075927999,\n",
       "  0.0019802175749493067,\n",
       "  0.0019184317588054594,\n",
       "  0.0018571734866930879,\n",
       "  0.0018370166362460646,\n",
       "  0.0018330656292576575,\n",
       "  0.0017993559941335542,\n",
       "  0.0017467764795510493,\n",
       "  0.001728726770993247,\n",
       "  0.0017284888516698701,\n",
       "  0.0017102730541212719,\n",
       "  0.0016999727344294182,\n",
       "  0.0016998643230813973,\n",
       "  0.0016948623776546388,\n",
       "  0.0016721476433740579,\n",
       "  0.0016186561320333437,\n",
       "  0.0015288215555052246,\n",
       "  0.0014530395541941235,\n",
       "  0.0014530034633638235,\n",
       "  0.0014490119251441866,\n",
       "  0.001440457184332433,\n",
       "  0.0013938902550340495,\n",
       "  0.0013810914782063206,\n",
       "  0.0013784391053538235,\n",
       "  0.0013570947857879071,\n",
       "  0.0013375527852038161,\n",
       "  0.0013183742451231201,\n",
       "  0.0013135675940526333,\n",
       "  0.0013092993582205952,\n",
       "  0.0012885124575984465,\n",
       "  0.0011635680091302664,\n",
       "  0.0010587334736089388,\n",
       "  0.00081456620989947461,\n",
       "  0.00063235088305535654,\n",
       "  0.00051203112363947608,\n",
       "  0.0004952414427548895,\n",
       "  0.00049507914093104661,\n",
       "  0.00049335309013012068,\n",
       "  0.00048394920043016325,\n",
       "  0.0004764122755023224,\n",
       "  0.00046233250975527025,\n",
       "  0.0004594547368505215,\n",
       "  0.00040464769632066996,\n",
       "  0.00035659735105952238,\n",
       "  0.00035266382409672068,\n",
       "  0.00034344711855019926,\n",
       "  0.000312289934516873,\n",
       "  0.00023356351746908432,\n",
       "  0.00013697951387741037,\n",
       "  0.0001194073665847416,\n",
       "  0.00010805266855923045,\n",
       "  0.00010508827684857668,\n",
       "  7.7834590928863406e-05,\n",
       "  5.0350489217214364e-05,\n",
       "  3.0109908271951925e-05,\n",
       "  1.9856669819067386e-05,\n",
       "  1.6872676778760069e-05,\n",
       "  1.4940341515115264e-05,\n",
       "  1.3688090341985684e-05,\n",
       "  1.2936004122628501e-05,\n",
       "  1.256443953260184e-05,\n",
       "  1.2195312405735254e-05,\n",
       "  9.4608562013082685e-06,\n",
       "  6.639392823613402e-06,\n",
       "  5.1771010219818147e-06,\n",
       "  5.1012515697458377e-06,\n",
       "  5.1012491325955068e-06,\n",
       "  5.0557919689977104e-06,\n",
       "  4.6354979551974114e-06,\n",
       "  4.5439438353584801e-06,\n",
       "  3.8149002358386463e-06,\n",
       "  3.6232850465179546e-06,\n",
       "  3.3421248783174086e-06,\n",
       "  3.3347981128184326e-06,\n",
       "  2.9746967334980482e-06,\n",
       "  2.3517549802107365e-06,\n",
       "  2.181234645065821e-06,\n",
       "  2.0810310067096913e-06,\n",
       "  2.0809691169383929e-06,\n",
       "  1.5820260084088894e-06,\n",
       "  6.9153157911101834e-07,\n",
       "  1.8897642008459093e-07,\n",
       "  1.071739381377516e-07,\n",
       "  1.0418164980285855e-07,\n",
       "  1.0285950162167296e-07,\n",
       "  1.0255423065422835e-07,\n",
       "  7.3695617625918385e-08,\n",
       "  7.1631793134113313e-08,\n",
       "  5.3686773316486185e-08,\n",
       "  3.1872363608711568e-08,\n",
       "  2.721465093292813e-08,\n",
       "  2.67007214874092e-08,\n",
       "  1.3795475404167888e-08,\n",
       "  9.075095939552848e-09,\n",
       "  4.792096874730755e-09,\n",
       "  1.0668440230165907e-09,\n",
       "  4.4429764873481777e-10,\n",
       "  1.8396158436188186e-10,\n",
       "  1.3004230329115989e-10,\n",
       "  1.2998327490071052e-10,\n",
       "  1.1234152883378312e-10,\n",
       "  1.1189786655714765e-10,\n",
       "  7.0013878861002466e-11,\n",
       "  3.566737777474309e-11,\n",
       "  2.9588427782557632e-11,\n",
       "  5.5681901199129713e-12,\n",
       "  4.594284003265289e-12,\n",
       "  3.1196168529318764e-12,\n",
       "  2.220050768077456e-12,\n",
       "  1.9799009742855997e-12,\n",
       "  1.9523554994263278e-12,\n",
       "  5.8045234590594171e-13]}"
      ]
     },
     "execution_count": 16,
     "metadata": {},
     "output_type": "execute_result"
    }
   ],
   "source": [
    "E.get_data()[0]"
   ]
  },
  {
   "cell_type": "markdown",
   "metadata": {},
   "source": [
    "## Plot convergence history"
   ]
  },
  {
   "cell_type": "code",
   "execution_count": 17,
   "metadata": {
    "collapsed": true
   },
   "outputs": [],
   "source": [
    "def plot_2D(X, Y, title = '', grid = True, label = \"\", log=False, linestyle = None):\n",
    "\n",
    "    if log:\n",
    "        p = plt.semilogy(X, Y[:len(X)], label=label)\n",
    "    else:\n",
    "        p = plt.plot(X, Y[:len(X)], label=label)\n",
    "    if linestyle:\n",
    "        plt.setp(p, linestyle=linestyle) \n",
    "    plt.title(title)\n",
    "    plt.legend(loc='center left', bbox_to_anchor=(1, 0.5))\n",
    "    if grid:\n",
    "        plt.grid(True)\n"
   ]
  },
  {
   "cell_type": "code",
   "execution_count": 18,
   "metadata": {
    "collapsed": false
   },
   "outputs": [
    {
     "data": {
      "application/pdf": "[encoded data removed]",
      "image/png": "[encoded data removed]",
      "text/plain": [
       "<matplotlib.figure.Figure at 0x7f781dc16090>"
      ]
     },
     "metadata": {},
     "output_type": "display_data"
    }
   ],
   "source": [
    "X = np.arange(2, E.get_data('iteration_count')[0]+1)\n",
    "Y = E.get_data('residuals')[0]\n",
    "Z = E.get_data('true_residuals')[0]\n",
    "\n",
    "plot_2D(X, Y, log=True, title='Historique de convergence', label = \"||r|| / ||b||\")\n",
    "plot_2D(X, Z, log=True, title='Historique de convergence', label = \"||true_r|| / ||b||\")"
   ]
  },
  {
   "cell_type": "code",
   "execution_count": 19,
   "metadata": {
    "collapsed": false
   },
   "outputs": [
    {
     "data": {
      "text/plain": [
       "[[]]"
      ]
     },
     "execution_count": 19,
     "metadata": {},
     "output_type": "execute_result"
    }
   ],
   "source": [
    "E.get_data('faults')"
   ]
  },
  {
   "cell_type": "code",
   "execution_count": 20,
   "metadata": {
    "collapsed": false
   },
   "outputs": [],
   "source": [
    "E.save_data_file(\"file_test\")"
   ]
  }
 ],
 "metadata": {
  "kernelspec": {
   "display_name": "Python 2",
   "language": "python",
   "name": "python2"
  },
  "language_info": {
   "codemirror_mode": {
    "name": "ipython",
    "version": 2
   },
   "file_extension": ".py",
   "mimetype": "text/x-python",
   "name": "python",
   "nbconvert_exporter": "python",
   "pygments_lexer": "ipython2",
   "version": "2.7.11+"
  }
 },
 "nbformat": 4,
 "nbformat_minor": 0
}
