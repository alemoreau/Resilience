{
 "cells": [
  {
   "cell_type": "code",
   "execution_count": 1,
   "metadata": {
    "collapsed": false
   },
   "outputs": [],
   "source": [
    "import os\n",
    "import sys\n",
    "from sys import stdout\n",
    "#import mysql.connector as mariadb\n",
    "import pymysql as mariadb\n",
    "mariadb_connection = mariadb.connect(user='resilience', \n",
    "                                     #password='resilience_password', \n",
    "                                     passwd='resilience_password',\n",
    "                                     host='192.168.1.48',\n",
    "                                     database='gmres_resilience')\n",
    "cursor = mariadb_connection.cursor()"
   ]
  },
  {
   "cell_type": "code",
   "execution_count": 2,
   "metadata": {
    "collapsed": false
   },
   "outputs": [],
   "source": [
    "import gmres_display"
   ]
  },
  {
   "cell_type": "code",
   "execution_count": null,
   "metadata": {
    "collapsed": true
   },
   "outputs": [],
   "source": []
  },
  {
   "cell_type": "code",
   "execution_count": 3,
   "metadata": {
    "collapsed": false
   },
   "outputs": [],
   "source": [
    "def database_generator(keys, n, show_progress = True):\n",
    "\n",
    "    cursor.execute(\"SELECT COUNT(*) from Experiment\")\n",
    "    n_rows = cursor.fetchone()[0]\n",
    "    c_rows = 0\n",
    "    \n",
    "    request = \"SELECT\"\n",
    "    first = True\n",
    "    for key in keys:\n",
    "        if not first:\n",
    "            request += \",\"\n",
    "        else:\n",
    "            first = False\n",
    "        request += \" \"\n",
    "        if key == \"faults\":\n",
    "            request += \"fault_i, fault_k, fault_f, fault_bit, fault_reg\"\n",
    "        else:\n",
    "            request += key\n",
    "    request += \" FROM Experiment\"\n",
    "    cursor.execute(request)\n",
    "    row = cursor.fetchone()\n",
    "    while row is not None:\n",
    "        c_row = {}\n",
    "        for i, key in enumerate(keys):\n",
    "            if key == \"faults\":\n",
    "                fault = {}\n",
    "                fault[\"loc\"] = {\"i\":row[i], \"j\":0, \"k\":row[i+1]}\n",
    "                fault[\"timer\"] = row[i+2]\n",
    "                fault[\"bit\"] = row[i+3]\n",
    "                fault[\"register\"] = row[i+4]\n",
    "                c_row[\"faults\"] = [fault] #TODO\n",
    "                i += 5\n",
    "            else:\n",
    "                c_row[key] = row[i]\n",
    "        c_rows += 1\n",
    "        if show_progress:\n",
    "            new_progress = (100 * c_rows) / n_rows\n",
    "            stdout.write(\"\\r%d %c \" % (new_progress, '%'))\n",
    "            stdout.flush()\n",
    "        yield c_row\n",
    "        if (c_rows == n):\n",
    "            break\n",
    "        row = cursor.fetchone()\n",
    "    "
   ]
  },
  {
   "cell_type": "code",
   "execution_count": 4,
   "metadata": {
    "collapsed": false
   },
   "outputs": [],
   "source": [
    "def load(keys, show_progress = True):\n",
    "\n",
    "    cursor.execute(\"SELECT COUNT(*) from Experiment\")\n",
    "    n_rows = cursor.fetchone()[0]\n",
    "    c_rows = 0\n",
    "    \n",
    "    request = \"SELECT\"\n",
    "    first = True\n",
    "    for key in keys:\n",
    "        if not first:\n",
    "            request += \",\"\n",
    "        else:\n",
    "            first = False\n",
    "        request += \" \"\n",
    "        if key == \"faults\":\n",
    "            request += \"fault_i, fault_k, fault_f, fault_bit, fault_reg\"\n",
    "        else:\n",
    "            request += key\n",
    "    request += \" FROM Experiment\"\n",
    "    cursor.execute(request)\n",
    "    result = [{} for i in xrange(n_rows)]\n",
    "    row = cursor.fetchone()\n",
    "    while row is not None:\n",
    "        for i, key in enumerate(keys):\n",
    "            if key == \"faults\":\n",
    "                fault = {}\n",
    "                fault[\"loc\"] = {\"i\":row[i], \"j\":0, \"k\":row[i+1]}\n",
    "                fault[\"timer\"] = row[i+2]\n",
    "                fault[\"bit\"] = row[i+3]\n",
    "                fault[\"register\"] = row[i+4]\n",
    "                result[c_rows][\"faults\"] = [fault] #TODO\n",
    "                i += 5\n",
    "            else:\n",
    "                result[c_rows][key] = row[i]\n",
    "        c_rows += 1\n",
    "        if show_progress:\n",
    "            new_progress = (100 * c_rows) / n_rows\n",
    "            stdout.write(\"\\r%d %c \" % (new_progress, '%'))\n",
    "            stdout.flush()\n",
    "        row = cursor.fetchone()\n",
    "    return result\n",
    "    "
   ]
  },
  {
   "cell_type": "code",
   "execution_count": null,
   "metadata": {
    "collapsed": false
   },
   "outputs": [],
   "source": []
  },
  {
   "cell_type": "code",
   "execution_count": null,
   "metadata": {
    "collapsed": true
   },
   "outputs": [],
   "source": []
  },
  {
   "cell_type": "code",
   "execution_count": null,
   "metadata": {
    "collapsed": false
   },
   "outputs": [],
   "source": []
  },
  {
   "cell_type": "code",
   "execution_count": 5,
   "metadata": {
    "collapsed": false
   },
   "outputs": [
    {
     "name": "stdout",
     "output_type": "stream",
     "text": [
      "\r",
      "0 % "
     ]
    },
    {
     "ename": "TypeError",
     "evalue": "'module' object is not callable",
     "output_type": "error",
     "traceback": [
      "\u001b[1;31m---------------------------------------------------------------------------\u001b[0m",
      "\u001b[1;31mTypeError\u001b[0m                                 Traceback (most recent call last)",
      "\u001b[1;32m<ipython-input-5-272136d81a98>\u001b[0m in \u001b[0;36m<module>\u001b[1;34m()\u001b[0m\n\u001b[0;32m      1\u001b[0m \u001b[1;32mfor\u001b[0m \u001b[0md\u001b[0m \u001b[1;32min\u001b[0m \u001b[0mdatabase_generator\u001b[0m\u001b[1;33m(\u001b[0m\u001b[1;33m[\u001b[0m\u001b[1;34m\"LinearSystem\"\u001b[0m\u001b[1;33m,\u001b[0m \u001b[1;34m\"residual\"\u001b[0m\u001b[1;33m,\u001b[0m \u001b[1;34m\"residuals\"\u001b[0m\u001b[1;33m,\u001b[0m \u001b[1;34m\"faults\"\u001b[0m\u001b[1;33m,\u001b[0m \u001b[1;34m\"l\"\u001b[0m\u001b[1;33m]\u001b[0m\u001b[1;33m,\u001b[0m \u001b[1;36m10\u001b[0m\u001b[1;33m)\u001b[0m\u001b[1;33m:\u001b[0m\u001b[1;33m\u001b[0m\u001b[0m\n\u001b[1;32m----> 2\u001b[1;33m     \u001b[0mgmres_display\u001b[0m\u001b[1;33m(\u001b[0m\u001b[0md\u001b[0m\u001b[1;33m,\u001b[0m \u001b[0mtrue_residual\u001b[0m \u001b[1;33m=\u001b[0m \u001b[0mFalse\u001b[0m\u001b[1;33m)\u001b[0m\u001b[1;33m\u001b[0m\u001b[0m\n\u001b[0m\u001b[0;32m      3\u001b[0m     \u001b[0mplt\u001b[0m\u001b[1;33m.\u001b[0m\u001b[0mshow\u001b[0m\u001b[1;33m(\u001b[0m\u001b[1;33m)\u001b[0m\u001b[1;33m\u001b[0m\u001b[0m\n",
      "\u001b[1;31mTypeError\u001b[0m: 'module' object is not callable"
     ]
    }
   ],
   "source": [
    "for d in database_generator([\"LinearSystem\", \"residual\", \"residuals\", \"faults\", \"l\"], 10):\n",
    "    gmres_display(d, true_residual = False)\n",
    "    plt.show()"
   ]
  },
  {
   "cell_type": "code",
   "execution_count": null,
   "metadata": {
    "collapsed": false
   },
   "outputs": [],
   "source": [
    "mariadb_connection.close()"
   ]
  },
  {
   "cell_type": "code",
   "execution_count": null,
   "metadata": {
    "collapsed": true
   },
   "outputs": [],
   "source": []
  }
 ],
 "metadata": {
  "kernelspec": {
   "display_name": "Python 2",
   "language": "python",
   "name": "python2"
  },
  "language_info": {
   "codemirror_mode": {
    "name": "ipython",
    "version": 2
   },
   "file_extension": ".py",
   "mimetype": "text/x-python",
   "name": "python",
   "nbconvert_exporter": "python",
   "pygments_lexer": "ipython2",
   "version": "2.7.12"
  }
 },
 "nbformat": 4,
 "nbformat_minor": 0
}
